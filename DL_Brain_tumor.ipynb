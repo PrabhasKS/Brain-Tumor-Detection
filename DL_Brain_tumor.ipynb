{
  "cells": [
    {
      "cell_type": "markdown",
      "metadata": {
        "id": "view-in-github",
        "colab_type": "text"
      },
      "source": [
        "<a href=\"https://colab.research.google.com/github/PrabhasKS/Brain-Tumor-Detection/blob/main/DL_Brain_tumor.ipynb\" target=\"_parent\"><img src=\"https://colab.research.google.com/assets/colab-badge.svg\" alt=\"Open In Colab\"/></a>"
      ]
    },
    {
      "cell_type": "code",
      "execution_count": null,
      "id": "eac093fa-a746-4c76-87d8-a41549b02e73",
      "metadata": {
        "colab": {
          "base_uri": "https://localhost:8080/"
        },
        "id": "eac093fa-a746-4c76-87d8-a41549b02e73",
        "outputId": "e6686ad5-c42b-426e-d667-11a833f8383f"
      },
      "outputs": [
        {
          "output_type": "stream",
          "name": "stdout",
          "text": [
            "Brain Tumor Detection-Project DLL \n",
            " All the necessary dependecies installed successfully😊\n"
          ]
        }
      ],
      "source": [
        "import pandas as pd\n",
        "import numpy as np\n",
        "import matplotlib.pyplot as plt\n",
        "import os, shutil\n",
        "import cv2\n",
        "import matplotlib.image as mpimg\n",
        "import seaborn as sns\n",
        "%matplotlib inline\n",
        "plt.style.use('ggplot')\n",
        "print(\"Brain Tumor Detection-Project DLL \\n All the necessary dependecies installed successfully😊\")\n",
        "\n",
        "\n",
        "\n"
      ]
    },
    {
      "cell_type": "code",
      "source": [
        "from google.colab import drive\n",
        "drive.mount('/content/drive')"
      ],
      "metadata": {
        "colab": {
          "base_uri": "https://localhost:8080/"
        },
        "id": "DYN83wiERrkj",
        "outputId": "1a82d95d-214f-41b6-8ff1-b0a85c46377f"
      },
      "id": "DYN83wiERrkj",
      "execution_count": null,
      "outputs": [
        {
          "output_type": "stream",
          "name": "stdout",
          "text": [
            "Drive already mounted at /content/drive; to attempt to forcibly remount, call drive.mount(\"/content/drive\", force_remount=True).\n"
          ]
        }
      ]
    },
    {
      "cell_type": "code",
      "execution_count": null,
      "id": "4487221c-1359-4293-8e18-095cb828b57b",
      "metadata": {
        "id": "4487221c-1359-4293-8e18-095cb828b57b"
      },
      "outputs": [],
      "source": [
        "# Dataset\n",
        "import zipfile\n",
        "z = zipfile.ZipFile('archive (2).zip')\n",
        "z.extractall()"
      ]
    },
    {
      "cell_type": "code",
      "execution_count": null,
      "id": "e745c95c-7722-41d1-8d27-aed28ab1bf7f",
      "metadata": {
        "id": "e745c95c-7722-41d1-8d27-aed28ab1bf7f",
        "outputId": "74c98778-0ec9-46f8-cbbe-d502337871fb",
        "colab": {
          "base_uri": "https://localhost:8080/"
        }
      },
      "outputs": [
        {
          "output_type": "stream",
          "name": "stdout",
          "text": [
            "Source: brain_tumor_dataset/yes/Y22.jpg, Destination: brain_tumor_dataset/yes/Y_1.jpg\n",
            "Source: brain_tumor_dataset/yes/Y102.jpg, Destination: brain_tumor_dataset/yes/Y_2.jpg\n",
            "Source: brain_tumor_dataset/yes/Y32.jpg, Destination: brain_tumor_dataset/yes/Y_3.jpg\n",
            "Source: brain_tumor_dataset/yes/Y257.jpg, Destination: brain_tumor_dataset/yes/Y_4.jpg\n",
            "Source: brain_tumor_dataset/yes/Y111.JPG, Destination: brain_tumor_dataset/yes/Y_5.jpg\n",
            "Source: brain_tumor_dataset/yes/Y116.JPG, Destination: brain_tumor_dataset/yes/Y_6.jpg\n",
            "Source: brain_tumor_dataset/yes/Y26.jpg, Destination: brain_tumor_dataset/yes/Y_7.jpg\n",
            "Source: brain_tumor_dataset/yes/Y163.JPG, Destination: brain_tumor_dataset/yes/Y_8.jpg\n",
            "Source: brain_tumor_dataset/yes/Y254.jpg, Destination: brain_tumor_dataset/yes/Y_9.jpg\n",
            "Source: brain_tumor_dataset/yes/Y65.JPG, Destination: brain_tumor_dataset/yes/Y_10.jpg\n",
            "Source: brain_tumor_dataset/yes/Y252.jpg, Destination: brain_tumor_dataset/yes/Y_11.jpg\n",
            "Source: brain_tumor_dataset/yes/Y192.JPG, Destination: brain_tumor_dataset/yes/Y_12.jpg\n",
            "Source: brain_tumor_dataset/yes/Y10.jpg, Destination: brain_tumor_dataset/yes/Y_13.jpg\n",
            "Source: brain_tumor_dataset/yes/Y195.JPG, Destination: brain_tumor_dataset/yes/Y_14.jpg\n",
            "Source: brain_tumor_dataset/yes/Y56.jpg, Destination: brain_tumor_dataset/yes/Y_15.jpg\n",
            "Source: brain_tumor_dataset/yes/Y42.jpg, Destination: brain_tumor_dataset/yes/Y_16.jpg\n",
            "Source: brain_tumor_dataset/yes/Y85.JPG, Destination: brain_tumor_dataset/yes/Y_17.jpg\n",
            "Source: brain_tumor_dataset/yes/Y9.jpg, Destination: brain_tumor_dataset/yes/Y_18.jpg\n",
            "Source: brain_tumor_dataset/yes/Y74.jpg, Destination: brain_tumor_dataset/yes/Y_19.jpg\n",
            "Source: brain_tumor_dataset/yes/Y92.jpg, Destination: brain_tumor_dataset/yes/Y_20.jpg\n",
            "Source: brain_tumor_dataset/yes/Y258.JPG, Destination: brain_tumor_dataset/yes/Y_21.jpg\n",
            "Source: brain_tumor_dataset/yes/Y62.jpg, Destination: brain_tumor_dataset/yes/Y_22.jpg\n",
            "Source: brain_tumor_dataset/yes/Y146.JPG, Destination: brain_tumor_dataset/yes/Y_23.jpg\n",
            "Source: brain_tumor_dataset/yes/Y54.jpg, Destination: brain_tumor_dataset/yes/Y_24.jpg\n",
            "Source: brain_tumor_dataset/yes/Y107.jpg, Destination: brain_tumor_dataset/yes/Y_25.jpg\n",
            "Source: brain_tumor_dataset/yes/Y103.jpg, Destination: brain_tumor_dataset/yes/Y_26.jpg\n",
            "Source: brain_tumor_dataset/yes/Y17.jpg, Destination: brain_tumor_dataset/yes/Y_27.jpg\n",
            "Source: brain_tumor_dataset/yes/Y36.JPG, Destination: brain_tumor_dataset/yes/Y_28.jpg\n",
            "Source: brain_tumor_dataset/yes/Y185.jpg, Destination: brain_tumor_dataset/yes/Y_29.jpg\n",
            "Source: brain_tumor_dataset/yes/Y148.JPG, Destination: brain_tumor_dataset/yes/Y_30.jpg\n",
            "Source: brain_tumor_dataset/yes/Y20.jpg, Destination: brain_tumor_dataset/yes/Y_31.jpg\n",
            "Source: brain_tumor_dataset/yes/Y77.jpg, Destination: brain_tumor_dataset/yes/Y_32.jpg\n",
            "Source: brain_tumor_dataset/yes/Y100.JPG, Destination: brain_tumor_dataset/yes/Y_33.jpg\n",
            "Source: brain_tumor_dataset/yes/Y35.jpg, Destination: brain_tumor_dataset/yes/Y_34.jpg\n",
            "Source: brain_tumor_dataset/yes/Y51.jpg, Destination: brain_tumor_dataset/yes/Y_35.jpg\n",
            "Source: brain_tumor_dataset/yes/Y66.JPG, Destination: brain_tumor_dataset/yes/Y_36.jpg\n",
            "Source: brain_tumor_dataset/yes/Y120.JPG, Destination: brain_tumor_dataset/yes/Y_37.jpg\n",
            "Source: brain_tumor_dataset/yes/Y19.JPG, Destination: brain_tumor_dataset/yes/Y_38.jpg\n",
            "Source: brain_tumor_dataset/yes/Y255.JPG, Destination: brain_tumor_dataset/yes/Y_39.jpg\n",
            "Source: brain_tumor_dataset/yes/Y86.JPG, Destination: brain_tumor_dataset/yes/Y_40.jpg\n",
            "Source: brain_tumor_dataset/yes/Y91.jpg, Destination: brain_tumor_dataset/yes/Y_41.jpg\n",
            "Source: brain_tumor_dataset/yes/Y158.JPG, Destination: brain_tumor_dataset/yes/Y_42.jpg\n",
            "Source: brain_tumor_dataset/yes/Y115.JPG, Destination: brain_tumor_dataset/yes/Y_43.jpg\n",
            "Source: brain_tumor_dataset/yes/Y50.JPG, Destination: brain_tumor_dataset/yes/Y_44.jpg\n",
            "Source: brain_tumor_dataset/yes/Y181.jpg, Destination: brain_tumor_dataset/yes/Y_45.jpg\n",
            "Source: brain_tumor_dataset/yes/Y11.jpg, Destination: brain_tumor_dataset/yes/Y_46.jpg\n",
            "Source: brain_tumor_dataset/yes/Y71.JPG, Destination: brain_tumor_dataset/yes/Y_47.jpg\n",
            "Source: brain_tumor_dataset/yes/Y21.jpg, Destination: brain_tumor_dataset/yes/Y_48.jpg\n",
            "Source: brain_tumor_dataset/yes/Y81.jpg, Destination: brain_tumor_dataset/yes/Y_49.jpg\n",
            "Source: brain_tumor_dataset/yes/Y59.JPG, Destination: brain_tumor_dataset/yes/Y_50.jpg\n",
            "Source: brain_tumor_dataset/yes/Y7.jpg, Destination: brain_tumor_dataset/yes/Y_51.jpg\n",
            "Source: brain_tumor_dataset/yes/Y183.jpg, Destination: brain_tumor_dataset/yes/Y_52.jpg\n",
            "Source: brain_tumor_dataset/yes/Y161.JPG, Destination: brain_tumor_dataset/yes/Y_53.jpg\n",
            "Source: brain_tumor_dataset/yes/Y194.jpg, Destination: brain_tumor_dataset/yes/Y_54.jpg\n",
            "Source: brain_tumor_dataset/yes/Y30.jpg, Destination: brain_tumor_dataset/yes/Y_55.jpg\n",
            "Source: brain_tumor_dataset/yes/Y89.JPG, Destination: brain_tumor_dataset/yes/Y_56.jpg\n",
            "Source: brain_tumor_dataset/yes/Y96.jpg, Destination: brain_tumor_dataset/yes/Y_57.jpg\n",
            "Source: brain_tumor_dataset/yes/Y170.JPG, Destination: brain_tumor_dataset/yes/Y_58.jpg\n",
            "Source: brain_tumor_dataset/yes/Y3.jpg, Destination: brain_tumor_dataset/yes/Y_59.jpg\n",
            "Source: brain_tumor_dataset/yes/Y249.JPG, Destination: brain_tumor_dataset/yes/Y_60.jpg\n",
            "Source: brain_tumor_dataset/yes/Y167.JPG, Destination: brain_tumor_dataset/yes/Y_61.jpg\n",
            "Source: brain_tumor_dataset/yes/Y147.JPG, Destination: brain_tumor_dataset/yes/Y_62.jpg\n",
            "Source: brain_tumor_dataset/yes/Y73.jpg, Destination: brain_tumor_dataset/yes/Y_63.jpg\n",
            "Source: brain_tumor_dataset/yes/Y164.JPG, Destination: brain_tumor_dataset/yes/Y_64.jpg\n",
            "Source: brain_tumor_dataset/yes/Y67.JPG, Destination: brain_tumor_dataset/yes/Y_65.jpg\n",
            "Source: brain_tumor_dataset/yes/Y1.jpg, Destination: brain_tumor_dataset/yes/Y_66.jpg\n",
            "Source: brain_tumor_dataset/yes/Y97.JPG, Destination: brain_tumor_dataset/yes/Y_67.jpg\n",
            "Source: brain_tumor_dataset/yes/Y108.jpg, Destination: brain_tumor_dataset/yes/Y_68.jpg\n",
            "Source: brain_tumor_dataset/yes/Y47.JPG, Destination: brain_tumor_dataset/yes/Y_69.jpg\n",
            "Source: brain_tumor_dataset/yes/Y156.JPG, Destination: brain_tumor_dataset/yes/Y_70.jpg\n",
            "Source: brain_tumor_dataset/yes/Y184.JPG, Destination: brain_tumor_dataset/yes/Y_71.jpg\n",
            "Source: brain_tumor_dataset/yes/Y101.jpg, Destination: brain_tumor_dataset/yes/Y_72.jpg\n",
            "Source: brain_tumor_dataset/yes/Y159.JPG, Destination: brain_tumor_dataset/yes/Y_73.jpg\n",
            "Source: brain_tumor_dataset/yes/Y166.JPG, Destination: brain_tumor_dataset/yes/Y_74.jpg\n",
            "Source: brain_tumor_dataset/yes/Y55.jpg, Destination: brain_tumor_dataset/yes/Y_75.jpg\n",
            "Source: brain_tumor_dataset/yes/Y157.JPG, Destination: brain_tumor_dataset/yes/Y_76.jpg\n",
            "Source: brain_tumor_dataset/yes/Y37.jpg, Destination: brain_tumor_dataset/yes/Y_77.jpg\n",
            "Source: brain_tumor_dataset/yes/Y193.JPG, Destination: brain_tumor_dataset/yes/Y_78.jpg\n",
            "Source: brain_tumor_dataset/yes/Y113.JPG, Destination: brain_tumor_dataset/yes/Y_79.jpg\n",
            "Source: brain_tumor_dataset/yes/Y169.jpg, Destination: brain_tumor_dataset/yes/Y_80.jpg\n",
            "Source: brain_tumor_dataset/yes/Y114.JPG, Destination: brain_tumor_dataset/yes/Y_81.jpg\n",
            "Source: brain_tumor_dataset/yes/Y182.JPG, Destination: brain_tumor_dataset/yes/Y_82.jpg\n",
            "Source: brain_tumor_dataset/yes/Y29.jpg, Destination: brain_tumor_dataset/yes/Y_83.jpg\n",
            "Source: brain_tumor_dataset/yes/Y186.jpg, Destination: brain_tumor_dataset/yes/Y_84.jpg\n",
            "Source: brain_tumor_dataset/yes/Y160.JPG, Destination: brain_tumor_dataset/yes/Y_85.jpg\n",
            "Source: brain_tumor_dataset/yes/Y12.jpg, Destination: brain_tumor_dataset/yes/Y_86.jpg\n",
            "Source: brain_tumor_dataset/yes/Y168.jpg, Destination: brain_tumor_dataset/yes/Y_87.jpg\n",
            "Source: brain_tumor_dataset/yes/Y61.jpg, Destination: brain_tumor_dataset/yes/Y_88.jpg\n",
            "Source: brain_tumor_dataset/yes/Y24.jpg, Destination: brain_tumor_dataset/yes/Y_89.jpg\n",
            "Source: brain_tumor_dataset/yes/Y245.jpg, Destination: brain_tumor_dataset/yes/Y_90.jpg\n",
            "Source: brain_tumor_dataset/yes/Y70.jpg, Destination: brain_tumor_dataset/yes/Y_91.jpg\n",
            "Source: brain_tumor_dataset/yes/Y75.JPG, Destination: brain_tumor_dataset/yes/Y_92.jpg\n",
            "Source: brain_tumor_dataset/yes/Y25.jpg, Destination: brain_tumor_dataset/yes/Y_93.jpg\n",
            "Source: brain_tumor_dataset/yes/Y162.jpg, Destination: brain_tumor_dataset/yes/Y_94.jpg\n",
            "Source: brain_tumor_dataset/yes/Y40.JPG, Destination: brain_tumor_dataset/yes/Y_95.jpg\n",
            "Source: brain_tumor_dataset/yes/Y28.jpg, Destination: brain_tumor_dataset/yes/Y_96.jpg\n",
            "Source: brain_tumor_dataset/yes/Y251.JPG, Destination: brain_tumor_dataset/yes/Y_97.jpg\n",
            "Source: brain_tumor_dataset/yes/Y90.jpg, Destination: brain_tumor_dataset/yes/Y_98.jpg\n",
            "Source: brain_tumor_dataset/yes/Y23.JPG, Destination: brain_tumor_dataset/yes/Y_99.jpg\n",
            "Source: brain_tumor_dataset/yes/Y242.JPG, Destination: brain_tumor_dataset/yes/Y_100.jpg\n",
            "Source: brain_tumor_dataset/yes/Y31.jpg, Destination: brain_tumor_dataset/yes/Y_101.jpg\n",
            "Source: brain_tumor_dataset/yes/Y259.JPG, Destination: brain_tumor_dataset/yes/Y_102.jpg\n",
            "Source: brain_tumor_dataset/yes/Y79.jpg, Destination: brain_tumor_dataset/yes/Y_103.jpg\n",
            "Source: brain_tumor_dataset/yes/Y155.JPG, Destination: brain_tumor_dataset/yes/Y_104.jpg\n",
            "Source: brain_tumor_dataset/yes/Y248.JPG, Destination: brain_tumor_dataset/yes/Y_105.jpg\n",
            "Source: brain_tumor_dataset/yes/Y246.JPG, Destination: brain_tumor_dataset/yes/Y_106.jpg\n",
            "Source: brain_tumor_dataset/yes/Y256.JPG, Destination: brain_tumor_dataset/yes/Y_107.jpg\n",
            "Source: brain_tumor_dataset/yes/Y46.jpg, Destination: brain_tumor_dataset/yes/Y_108.jpg\n",
            "Source: brain_tumor_dataset/yes/Y92.png, Destination: brain_tumor_dataset/yes/Y_109.jpg\n",
            "Source: brain_tumor_dataset/yes/Y13.jpg, Destination: brain_tumor_dataset/yes/Y_110.jpg\n",
            "Source: brain_tumor_dataset/yes/Y244.JPG, Destination: brain_tumor_dataset/yes/Y_111.jpg\n",
            "Source: brain_tumor_dataset/yes/Y247.JPG, Destination: brain_tumor_dataset/yes/Y_112.jpg\n",
            "Source: brain_tumor_dataset/yes/Y52.jpg, Destination: brain_tumor_dataset/yes/Y_113.jpg\n",
            "Source: brain_tumor_dataset/yes/Y49.JPG, Destination: brain_tumor_dataset/yes/Y_114.jpg\n",
            "Source: brain_tumor_dataset/yes/Y18.JPG, Destination: brain_tumor_dataset/yes/Y_115.jpg\n",
            "Source: brain_tumor_dataset/yes/Y165.JPG, Destination: brain_tumor_dataset/yes/Y_116.jpg\n",
            "Source: brain_tumor_dataset/yes/Y34.jpg, Destination: brain_tumor_dataset/yes/Y_117.jpg\n",
            "Source: brain_tumor_dataset/yes/Y58.JPG, Destination: brain_tumor_dataset/yes/Y_118.jpg\n",
            "Source: brain_tumor_dataset/yes/Y106.jpg, Destination: brain_tumor_dataset/yes/Y_119.jpg\n",
            "Source: brain_tumor_dataset/yes/Y188.jpg, Destination: brain_tumor_dataset/yes/Y_120.jpg\n",
            "Source: brain_tumor_dataset/yes/Y104.jpg, Destination: brain_tumor_dataset/yes/Y_121.jpg\n",
            "Source: brain_tumor_dataset/yes/Y60.jpg, Destination: brain_tumor_dataset/yes/Y_122.jpg\n",
            "Source: brain_tumor_dataset/yes/Y154.jpg, Destination: brain_tumor_dataset/yes/Y_123.jpg\n",
            "Source: brain_tumor_dataset/yes/Y180.jpg, Destination: brain_tumor_dataset/yes/Y_124.jpg\n",
            "Source: brain_tumor_dataset/yes/Y41.jpg, Destination: brain_tumor_dataset/yes/Y_125.jpg\n",
            "Source: brain_tumor_dataset/yes/Y250.jpg, Destination: brain_tumor_dataset/yes/Y_126.jpg\n",
            "Source: brain_tumor_dataset/yes/Y69.jpg, Destination: brain_tumor_dataset/yes/Y_127.jpg\n",
            "Source: brain_tumor_dataset/yes/Y98.JPG, Destination: brain_tumor_dataset/yes/Y_128.jpg\n",
            "Source: brain_tumor_dataset/yes/Y4.jpg, Destination: brain_tumor_dataset/yes/Y_129.jpg\n",
            "Source: brain_tumor_dataset/yes/Y95.jpg, Destination: brain_tumor_dataset/yes/Y_130.jpg\n",
            "Source: brain_tumor_dataset/yes/Y82.jpg, Destination: brain_tumor_dataset/yes/Y_131.jpg\n",
            "Source: brain_tumor_dataset/yes/Y243.JPG, Destination: brain_tumor_dataset/yes/Y_132.jpg\n",
            "Source: brain_tumor_dataset/yes/Y117.JPG, Destination: brain_tumor_dataset/yes/Y_133.jpg\n",
            "Source: brain_tumor_dataset/yes/Y33.jpg, Destination: brain_tumor_dataset/yes/Y_134.jpg\n",
            "Source: brain_tumor_dataset/yes/Y78.jpg, Destination: brain_tumor_dataset/yes/Y_135.jpg\n",
            "Source: brain_tumor_dataset/yes/Y38.jpg, Destination: brain_tumor_dataset/yes/Y_136.jpg\n",
            "Source: brain_tumor_dataset/yes/Y187.jpg, Destination: brain_tumor_dataset/yes/Y_137.jpg\n",
            "Source: brain_tumor_dataset/yes/Y45.JPG, Destination: brain_tumor_dataset/yes/Y_138.jpg\n",
            "Source: brain_tumor_dataset/yes/Y14.jpg, Destination: brain_tumor_dataset/yes/Y_139.jpg\n",
            "Source: brain_tumor_dataset/yes/Y105.jpg, Destination: brain_tumor_dataset/yes/Y_140.jpg\n",
            "Source: brain_tumor_dataset/yes/Y39.jpg, Destination: brain_tumor_dataset/yes/Y_141.jpg\n",
            "Source: brain_tumor_dataset/yes/Y53.jpg, Destination: brain_tumor_dataset/yes/Y_142.jpg\n",
            "Source: brain_tumor_dataset/yes/Y253.JPG, Destination: brain_tumor_dataset/yes/Y_143.jpg\n",
            "Source: brain_tumor_dataset/yes/Y109.JPG, Destination: brain_tumor_dataset/yes/Y_144.jpg\n",
            "Source: brain_tumor_dataset/yes/Y76.jpg, Destination: brain_tumor_dataset/yes/Y_145.jpg\n",
            "Source: brain_tumor_dataset/yes/Y99.JPG, Destination: brain_tumor_dataset/yes/Y_146.jpg\n",
            "Source: brain_tumor_dataset/yes/Y15.jpg, Destination: brain_tumor_dataset/yes/Y_147.jpg\n",
            "Source: brain_tumor_dataset/yes/Y112.JPG, Destination: brain_tumor_dataset/yes/Y_148.jpg\n",
            "Source: brain_tumor_dataset/yes/Y153.jpg, Destination: brain_tumor_dataset/yes/Y_149.jpg\n",
            "Source: brain_tumor_dataset/yes/Y8.jpg, Destination: brain_tumor_dataset/yes/Y_150.jpg\n",
            "Source: brain_tumor_dataset/yes/Y6.jpg, Destination: brain_tumor_dataset/yes/Y_151.jpg\n",
            "Source: brain_tumor_dataset/yes/Y44.JPG, Destination: brain_tumor_dataset/yes/Y_152.jpg\n",
            "Source: brain_tumor_dataset/yes/Y16.JPG, Destination: brain_tumor_dataset/yes/Y_153.jpg\n",
            "Source: brain_tumor_dataset/yes/Y2.jpg, Destination: brain_tumor_dataset/yes/Y_154.jpg\n",
            "Source: brain_tumor_dataset/yes/Y27.jpg, Destination: brain_tumor_dataset/yes/Y_155.jpg\n",
            "All files are renamed in the yes dir\n"
          ]
        }
      ],
      "source": [
        "folder = \"brain_tumor_dataset/yes/\"\n",
        "count = 1\n",
        "for filename in os.listdir(folder):\n",
        "    source = folder + filename\n",
        "    destination = folder + \"Y_\" + str(count) + \".jpg\"\n",
        "    print(f\"Source: {source}, Destination: {destination}\")\n",
        "    os.rename(source, destination)\n",
        "    count += 1\n",
        "print(\"All files are renamed in the yes dir\")\n"
      ]
    },
    {
      "cell_type": "code",
      "execution_count": null,
      "id": "a75c1f2d-9ad4-4cc1-98a4-2cc859e194de",
      "metadata": {
        "id": "a75c1f2d-9ad4-4cc1-98a4-2cc859e194de",
        "outputId": "8b0df6f4-ad57-4fe7-b738-4fdbc5f0a4ea",
        "colab": {
          "base_uri": "https://localhost:8080/"
        }
      },
      "outputs": [
        {
          "output_type": "stream",
          "name": "stdout",
          "text": [
            "Source: brain_tumor_dataset/no/33 no.jpg, Destination: brain_tumor_dataset/no/N_1.jpg\n",
            "Source: brain_tumor_dataset/no/24 no.jpg, Destination: brain_tumor_dataset/no/N_2.jpg\n",
            "Source: brain_tumor_dataset/no/38 no.jpg, Destination: brain_tumor_dataset/no/N_3.jpg\n",
            "Source: brain_tumor_dataset/no/N26.JPG, Destination: brain_tumor_dataset/no/N_4.jpg\n",
            "Source: brain_tumor_dataset/no/no 6.jpg, Destination: brain_tumor_dataset/no/N_5.jpg\n",
            "Source: brain_tumor_dataset/no/4 no.jpg, Destination: brain_tumor_dataset/no/N_6.jpg\n",
            "Source: brain_tumor_dataset/no/12 no.jpg, Destination: brain_tumor_dataset/no/N_7.jpg\n",
            "Source: brain_tumor_dataset/no/N15.jpg, Destination: brain_tumor_dataset/no/N_8.jpg\n",
            "Source: brain_tumor_dataset/no/36 no.jpg, Destination: brain_tumor_dataset/no/N_9.jpg\n",
            "Source: brain_tumor_dataset/no/8 no.jpg, Destination: brain_tumor_dataset/no/N_10.jpg\n",
            "Source: brain_tumor_dataset/no/2 no.jpeg, Destination: brain_tumor_dataset/no/N_11.jpg\n",
            "Source: brain_tumor_dataset/no/no 8.jpg, Destination: brain_tumor_dataset/no/N_12.jpg\n",
            "Source: brain_tumor_dataset/no/no 90.jpg, Destination: brain_tumor_dataset/no/N_13.jpg\n",
            "Source: brain_tumor_dataset/no/35 no.jpg, Destination: brain_tumor_dataset/no/N_14.jpg\n",
            "Source: brain_tumor_dataset/no/41 no.jpg, Destination: brain_tumor_dataset/no/N_15.jpg\n",
            "Source: brain_tumor_dataset/no/37 no.jpg, Destination: brain_tumor_dataset/no/N_16.jpg\n",
            "Source: brain_tumor_dataset/no/32 no.jpg, Destination: brain_tumor_dataset/no/N_17.jpg\n",
            "Source: brain_tumor_dataset/no/no 98.jpg, Destination: brain_tumor_dataset/no/N_18.jpg\n",
            "Source: brain_tumor_dataset/no/No11.jpg, Destination: brain_tumor_dataset/no/N_19.jpg\n",
            "Source: brain_tumor_dataset/no/no 1.jpg, Destination: brain_tumor_dataset/no/N_20.jpg\n",
            "Source: brain_tumor_dataset/no/No21.jpg, Destination: brain_tumor_dataset/no/N_21.jpg\n",
            "Source: brain_tumor_dataset/no/no 923.jpg, Destination: brain_tumor_dataset/no/N_22.jpg\n",
            "Source: brain_tumor_dataset/no/no 94.jpg, Destination: brain_tumor_dataset/no/N_23.jpg\n",
            "Source: brain_tumor_dataset/no/N20.JPG, Destination: brain_tumor_dataset/no/N_24.jpg\n",
            "Source: brain_tumor_dataset/no/11 no.jpg, Destination: brain_tumor_dataset/no/N_25.jpg\n",
            "Source: brain_tumor_dataset/no/No16.jpg, Destination: brain_tumor_dataset/no/N_26.jpg\n",
            "Source: brain_tumor_dataset/no/no 9.png, Destination: brain_tumor_dataset/no/N_27.jpg\n",
            "Source: brain_tumor_dataset/no/20 no.jpg, Destination: brain_tumor_dataset/no/N_28.jpg\n",
            "Source: brain_tumor_dataset/no/14 no.jpg, Destination: brain_tumor_dataset/no/N_29.jpg\n",
            "Source: brain_tumor_dataset/no/no 3.jpg, Destination: brain_tumor_dataset/no/N_30.jpg\n",
            "Source: brain_tumor_dataset/no/N22.JPG, Destination: brain_tumor_dataset/no/N_31.jpg\n",
            "Source: brain_tumor_dataset/no/15 no.jpg, Destination: brain_tumor_dataset/no/N_32.jpg\n",
            "Source: brain_tumor_dataset/no/13 no.jpg, Destination: brain_tumor_dataset/no/N_33.jpg\n",
            "Source: brain_tumor_dataset/no/22 no.jpg, Destination: brain_tumor_dataset/no/N_34.jpg\n",
            "Source: brain_tumor_dataset/no/N6.jpg, Destination: brain_tumor_dataset/no/N_35.jpg\n",
            "Source: brain_tumor_dataset/no/31 no.jpg, Destination: brain_tumor_dataset/no/N_36.jpg\n",
            "Source: brain_tumor_dataset/no/42 no.jpg, Destination: brain_tumor_dataset/no/N_37.jpg\n",
            "Source: brain_tumor_dataset/no/21 no.jpg, Destination: brain_tumor_dataset/no/N_38.jpg\n",
            "Source: brain_tumor_dataset/no/no 89.jpg, Destination: brain_tumor_dataset/no/N_39.jpg\n",
            "Source: brain_tumor_dataset/no/N2.JPG, Destination: brain_tumor_dataset/no/N_40.jpg\n",
            "Source: brain_tumor_dataset/no/26 no.jpg, Destination: brain_tumor_dataset/no/N_41.jpg\n",
            "Source: brain_tumor_dataset/no/29 no.jpg, Destination: brain_tumor_dataset/no/N_42.jpg\n",
            "Source: brain_tumor_dataset/no/45 no.jpg, Destination: brain_tumor_dataset/no/N_43.jpg\n",
            "Source: brain_tumor_dataset/no/6 no.jpg, Destination: brain_tumor_dataset/no/N_44.jpg\n",
            "Source: brain_tumor_dataset/no/N1.JPG, Destination: brain_tumor_dataset/no/N_45.jpg\n",
            "Source: brain_tumor_dataset/no/No15.jpg, Destination: brain_tumor_dataset/no/N_46.jpg\n",
            "Source: brain_tumor_dataset/no/no 5.jpeg, Destination: brain_tumor_dataset/no/N_47.jpg\n",
            "Source: brain_tumor_dataset/no/19 no.jpg, Destination: brain_tumor_dataset/no/N_48.jpg\n",
            "Source: brain_tumor_dataset/no/50 no.jpg, Destination: brain_tumor_dataset/no/N_49.jpg\n",
            "Source: brain_tumor_dataset/no/17 no.jpg, Destination: brain_tumor_dataset/no/N_50.jpg\n",
            "Source: brain_tumor_dataset/no/No14.jpg, Destination: brain_tumor_dataset/no/N_51.jpg\n",
            "Source: brain_tumor_dataset/no/N3.jpg, Destination: brain_tumor_dataset/no/N_52.jpg\n",
            "Source: brain_tumor_dataset/no/39 no.jpg, Destination: brain_tumor_dataset/no/N_53.jpg\n",
            "Source: brain_tumor_dataset/no/28 no.jpg, Destination: brain_tumor_dataset/no/N_54.jpg\n",
            "Source: brain_tumor_dataset/no/49 no.jpg, Destination: brain_tumor_dataset/no/N_55.jpg\n",
            "Source: brain_tumor_dataset/no/10 no.jpg, Destination: brain_tumor_dataset/no/N_56.jpg\n",
            "Source: brain_tumor_dataset/no/no 95.jpg, Destination: brain_tumor_dataset/no/N_57.jpg\n",
            "Source: brain_tumor_dataset/no/no 100.jpg, Destination: brain_tumor_dataset/no/N_58.jpg\n",
            "Source: brain_tumor_dataset/no/9 no.jpg, Destination: brain_tumor_dataset/no/N_59.jpg\n",
            "Source: brain_tumor_dataset/no/no 4.jpg, Destination: brain_tumor_dataset/no/N_60.jpg\n",
            "Source: brain_tumor_dataset/no/46 no.jpg, Destination: brain_tumor_dataset/no/N_61.jpg\n",
            "Source: brain_tumor_dataset/no/N19.JPG, Destination: brain_tumor_dataset/no/N_62.jpg\n",
            "Source: brain_tumor_dataset/no/1 no.jpeg, Destination: brain_tumor_dataset/no/N_63.jpg\n",
            "Source: brain_tumor_dataset/no/47 no.jpg, Destination: brain_tumor_dataset/no/N_64.jpg\n",
            "Source: brain_tumor_dataset/no/No19.jpg, Destination: brain_tumor_dataset/no/N_65.jpg\n",
            "Source: brain_tumor_dataset/no/N17.jpg, Destination: brain_tumor_dataset/no/N_66.jpg\n",
            "Source: brain_tumor_dataset/no/no 99.jpg, Destination: brain_tumor_dataset/no/N_67.jpg\n",
            "Source: brain_tumor_dataset/no/No18.jpg, Destination: brain_tumor_dataset/no/N_68.jpg\n",
            "Source: brain_tumor_dataset/no/no 10.jpg, Destination: brain_tumor_dataset/no/N_69.jpg\n",
            "Source: brain_tumor_dataset/no/no 97.jpg, Destination: brain_tumor_dataset/no/N_70.jpg\n",
            "Source: brain_tumor_dataset/no/7 no.jpg, Destination: brain_tumor_dataset/no/N_71.jpg\n",
            "Source: brain_tumor_dataset/no/25 no.jpg, Destination: brain_tumor_dataset/no/N_72.jpg\n",
            "Source: brain_tumor_dataset/no/34 no.jpg, Destination: brain_tumor_dataset/no/N_73.jpg\n",
            "Source: brain_tumor_dataset/no/23 no.jpg, Destination: brain_tumor_dataset/no/N_74.jpg\n",
            "Source: brain_tumor_dataset/no/no.jpg, Destination: brain_tumor_dataset/no/N_75.jpg\n",
            "Source: brain_tumor_dataset/no/no 96.jpg, Destination: brain_tumor_dataset/no/N_76.jpg\n",
            "Source: brain_tumor_dataset/no/N16.jpg, Destination: brain_tumor_dataset/no/N_77.jpg\n",
            "Source: brain_tumor_dataset/no/No20.jpg, Destination: brain_tumor_dataset/no/N_78.jpg\n",
            "Source: brain_tumor_dataset/no/N21.jpg, Destination: brain_tumor_dataset/no/N_79.jpg\n",
            "Source: brain_tumor_dataset/no/N5.jpg, Destination: brain_tumor_dataset/no/N_80.jpg\n",
            "Source: brain_tumor_dataset/no/no 92.jpg, Destination: brain_tumor_dataset/no/N_81.jpg\n",
            "Source: brain_tumor_dataset/no/48 no.jpeg, Destination: brain_tumor_dataset/no/N_82.jpg\n",
            "Source: brain_tumor_dataset/no/No22.jpg, Destination: brain_tumor_dataset/no/N_83.jpg\n",
            "Source: brain_tumor_dataset/no/no 91.jpeg, Destination: brain_tumor_dataset/no/N_84.jpg\n",
            "Source: brain_tumor_dataset/no/27 no.jpg, Destination: brain_tumor_dataset/no/N_85.jpg\n",
            "Source: brain_tumor_dataset/no/30 no.jpg, Destination: brain_tumor_dataset/no/N_86.jpg\n",
            "Source: brain_tumor_dataset/no/N11.jpg, Destination: brain_tumor_dataset/no/N_87.jpg\n",
            "Source: brain_tumor_dataset/no/no 7.jpeg, Destination: brain_tumor_dataset/no/N_88.jpg\n",
            "Source: brain_tumor_dataset/no/3 no.jpg, Destination: brain_tumor_dataset/no/N_89.jpg\n",
            "Source: brain_tumor_dataset/no/No17.jpg, Destination: brain_tumor_dataset/no/N_90.jpg\n",
            "Source: brain_tumor_dataset/no/5 no.jpg, Destination: brain_tumor_dataset/no/N_91.jpg\n",
            "Source: brain_tumor_dataset/no/no 2.jpg, Destination: brain_tumor_dataset/no/N_92.jpg\n",
            "Source: brain_tumor_dataset/no/18 no.jpg, Destination: brain_tumor_dataset/no/N_93.jpg\n",
            "Source: brain_tumor_dataset/no/40 no.jpg, Destination: brain_tumor_dataset/no/N_94.jpg\n",
            "Source: brain_tumor_dataset/no/No13.jpg, Destination: brain_tumor_dataset/no/N_95.jpg\n",
            "Source: brain_tumor_dataset/no/43 no.jpg, Destination: brain_tumor_dataset/no/N_96.jpg\n",
            "Source: brain_tumor_dataset/no/No12.jpg, Destination: brain_tumor_dataset/no/N_97.jpg\n",
            "Source: brain_tumor_dataset/no/44no.jpg, Destination: brain_tumor_dataset/no/N_98.jpg\n",
            "All files are renamed in the no dir\n"
          ]
        }
      ],
      "source": [
        "folder = \"brain_tumor_dataset/no/\"\n",
        "count = 1\n",
        "for filename in os.listdir(folder):\n",
        "    source = folder + filename\n",
        "    destination = folder + \"N_\" + str(count) + \".jpg\"\n",
        "    print(f\"Source: {source}, Destination: {destination}\")\n",
        "    os.rename(source, destination)\n",
        "    count += 1\n",
        "print(\"All files are renamed in the no dir\")"
      ]
    },
    {
      "cell_type": "code",
      "execution_count": null,
      "id": "fa079d1d-285f-4dca-99ea-2e3b8ec73d2f",
      "metadata": {
        "id": "fa079d1d-285f-4dca-99ea-2e3b8ec73d2f",
        "outputId": "93c71aa1-707e-4b3a-dacb-151e5a1efcf7",
        "colab": {
          "base_uri": "https://localhost:8080/"
        }
      },
      "outputs": [
        {
          "output_type": "stream",
          "name": "stdout",
          "text": [
            "155\n",
            "98\n"
          ]
        }
      ],
      "source": [
        "#Exploratory Data analysis (EDA)\n",
        "\n",
        "listyes = os.listdir(\"brain_tumor_dataset/yes/\")\n",
        "number_file_yes = len(listyes)\n",
        "print(number_file_yes)\n",
        "\n",
        "\n",
        "listno = os.listdir(\"brain_tumor_dataset/no/\")\n",
        "number_file_no = len(listno)\n",
        "print(number_file_no)\n"
      ]
    },
    {
      "cell_type": "code",
      "execution_count": null,
      "id": "82cbd8a3-09ff-4020-ba56-f7b6e53fc975",
      "metadata": {
        "id": "82cbd8a3-09ff-4020-ba56-f7b6e53fc975",
        "outputId": "4d0733da-c248-4090-ca7f-5cc5749f1d5f",
        "colab": {
          "base_uri": "https://localhost:8080/",
          "height": 646
        }
      },
      "outputs": [
        {
          "output_type": "display_data",
          "data": {
            "text/plain": [
              "<Figure size 500x700 with 1 Axes>"
            ],
            "image/png": "[encoded data removed]"
          },
          "metadata": {}
        }
      ],
      "source": [
        "#plot\n",
        "\n",
        "data ={'tumorous': number_file_yes, 'non-tumorous':number_file_no}\n",
        "typex = data.keys()\n",
        "values = data.values()\n",
        "\n",
        "fig = plt.figure(figsize =(5,7))\n",
        "plt.bar(typex,values,color=\"red\")\n",
        "plt.xlabel(\"Data\")\n",
        "plt.ylabel(\"No_of_Brain_Tumor_Images\")\n",
        "plt.title(\"Count of Brain Tumor Images\")\n",
        "plt.show()\n"
      ]
    },
    {
      "cell_type": "code",
      "execution_count": null,
      "id": "e657d8d4-d706-414a-b351-04890ac4d3b6",
      "metadata": {
        "id": "e657d8d4-d706-414a-b351-04890ac4d3b6"
      },
      "outputs": [],
      "source": [
        "#Data Augumentation\n",
        "\n",
        "import tensorflow as tf\n",
        "from tensorflow.keras.preprocessing.image import ImageDataGenerator\n",
        "from tensorflow.keras.models import Model\n",
        "from tensorflow.keras.layers import Flatten, Dense, Dropout\n",
        "from tensorflow.keras.applications.vgg19 import VGG19\n",
        "from tensorflow.keras.optimizers import SGD, RMSprop, Adam\n",
        "from tensorflow.keras.callbacks import ModelCheckpoint, EarlyStopping, ReduceLROnPlateau\n",
        "\n",
        "\n"
      ]
    },
    {
      "cell_type": "code",
      "execution_count": null,
      "id": "73ea8c72-0eb1-4371-9bf7-cd117ae6ad42",
      "metadata": {
        "id": "73ea8c72-0eb1-4371-9bf7-cd117ae6ad42"
      },
      "outputs": [],
      "source": [
        "def timing(sec_elapsed):\n",
        "    h = int(sec_elapsed / (60*60))\n",
        "    m =int(sec_elapsed % (60*60)/60)\n",
        "    s =sec_elapsed % 60\n",
        "    return f\"{h}:{m}:{s}\"\n"
      ]
    },
    {
      "cell_type": "code",
      "execution_count": null,
      "id": "5472b325-b1b5-4bbf-9b5e-2d7b8223af74",
      "metadata": {
        "id": "5472b325-b1b5-4bbf-9b5e-2d7b8223af74"
      },
      "outputs": [],
      "source": [
        "def augumented_data(file_dir , n_generated_sample , save_to_dir):\n",
        "    data_gen = ImageDataGenerator(rotation_range = 10,width_shift_range = 0.1,height_shift_range = 0.1, shear_range=0.1,brightness_range=(0.3,1.0),horizontal_flip = True,vertical_flip=True, fill_mode='nearest')\n",
        "    for filename in os.listdir(file_dir):\n",
        "        image = cv2.imread(file_dir + '/' +filename)\n",
        "        image = image.reshape((1,) + image.shape)\n",
        "        save_prefix = 'aug_' +filename[:-4]\n",
        "        i=0\n",
        "        for batch in data_gen.flow(x=image,batch_size =1,save_to_dir= save_to_dir, save_prefix = save_prefix, save_format = \"jpg\"):\n",
        "            i+=1\n",
        "            if i>n_generated_sample:\n",
        "                break\n"
      ]
    },
    {
      "cell_type": "code",
      "execution_count": null,
      "id": "bc1a6c56-1384-4a26-b43e-b4d291eb7d07",
      "metadata": {
        "id": "bc1a6c56-1384-4a26-b43e-b4d291eb7d07",
        "outputId": "33c294d1-029d-473f-af70-4d5bae7e3cfc",
        "colab": {
          "base_uri": "https://localhost:8080/",
          "height": 425
        }
      },
      "outputs": [
        {
          "output_type": "error",
          "ename": "FileNotFoundError",
          "evalue": "[Errno 2] No such file or directory: 'augmented_data/yes/aug_Y_10_0_2386.jpg'",
          "traceback": [
            "\u001b[0;31m---------------------------------------------------------------------------\u001b[0m",
            "\u001b[0;31mFileNotFoundError\u001b[0m                         Traceback (most recent call last)",
            "\u001b[0;32m<ipython-input-15-0142b7cea52d>\u001b[0m in \u001b[0;36m<cell line: 0>\u001b[0;34m()\u001b[0m\n\u001b[1;32m      6\u001b[0m \u001b[0;34m\u001b[0m\u001b[0m\n\u001b[1;32m      7\u001b[0m \u001b[0maugmented_data_path\u001b[0m \u001b[0;34m=\u001b[0m \u001b[0;34m'augmented_data/'\u001b[0m\u001b[0;34m\u001b[0m\u001b[0;34m\u001b[0m\u001b[0m\n\u001b[0;32m----> 8\u001b[0;31m \u001b[0maugumented_data\u001b[0m\u001b[0;34m(\u001b[0m\u001b[0mfile_dir\u001b[0m \u001b[0;34m=\u001b[0m \u001b[0myes_path\u001b[0m \u001b[0;34m,\u001b[0m \u001b[0mn_generated_sample\u001b[0m \u001b[0;34m=\u001b[0m\u001b[0;36m6\u001b[0m \u001b[0;34m,\u001b[0m\u001b[0msave_to_dir\u001b[0m \u001b[0;34m=\u001b[0m\u001b[0maugmented_data_path\u001b[0m \u001b[0;34m+\u001b[0m\u001b[0;34m'yes'\u001b[0m \u001b[0;34m)\u001b[0m\u001b[0;34m\u001b[0m\u001b[0;34m\u001b[0m\u001b[0m\n\u001b[0m\u001b[1;32m      9\u001b[0m \u001b[0maugumented_data\u001b[0m\u001b[0;34m(\u001b[0m\u001b[0mfile_dir\u001b[0m \u001b[0;34m=\u001b[0m \u001b[0mno_path\u001b[0m \u001b[0;34m,\u001b[0m \u001b[0mn_generated_sample\u001b[0m \u001b[0;34m=\u001b[0m\u001b[0;36m9\u001b[0m \u001b[0;34m,\u001b[0m\u001b[0msave_to_dir\u001b[0m \u001b[0;34m=\u001b[0m\u001b[0maugmented_data_path\u001b[0m \u001b[0;34m+\u001b[0m\u001b[0;34m'no'\u001b[0m \u001b[0;34m)\u001b[0m\u001b[0;34m\u001b[0m\u001b[0;34m\u001b[0m\u001b[0m\n\u001b[1;32m     10\u001b[0m \u001b[0mend_time\u001b[0m \u001b[0;34m=\u001b[0m\u001b[0mtime\u001b[0m\u001b[0;34m.\u001b[0m\u001b[0mtime\u001b[0m\u001b[0;34m(\u001b[0m\u001b[0;34m)\u001b[0m\u001b[0;34m\u001b[0m\u001b[0;34m\u001b[0m\u001b[0m\n",
            "\u001b[0;32m<ipython-input-13-80d074beda0e>\u001b[0m in \u001b[0;36maugumented_data\u001b[0;34m(file_dir, n_generated_sample, save_to_dir)\u001b[0m\n\u001b[1;32m      6\u001b[0m         \u001b[0msave_prefix\u001b[0m \u001b[0;34m=\u001b[0m \u001b[0;34m'aug_'\u001b[0m \u001b[0;34m+\u001b[0m\u001b[0mfilename\u001b[0m\u001b[0;34m[\u001b[0m\u001b[0;34m:\u001b[0m\u001b[0;34m-\u001b[0m\u001b[0;36m4\u001b[0m\u001b[0;34m]\u001b[0m\u001b[0;34m\u001b[0m\u001b[0;34m\u001b[0m\u001b[0m\n\u001b[1;32m      7\u001b[0m         \u001b[0mi\u001b[0m\u001b[0;34m=\u001b[0m\u001b[0;36m0\u001b[0m\u001b[0;34m\u001b[0m\u001b[0;34m\u001b[0m\u001b[0m\n\u001b[0;32m----> 8\u001b[0;31m         \u001b[0;32mfor\u001b[0m \u001b[0mbatch\u001b[0m \u001b[0;32min\u001b[0m \u001b[0mdata_gen\u001b[0m\u001b[0;34m.\u001b[0m\u001b[0mflow\u001b[0m\u001b[0;34m(\u001b[0m\u001b[0mx\u001b[0m\u001b[0;34m=\u001b[0m\u001b[0mimage\u001b[0m\u001b[0;34m,\u001b[0m\u001b[0mbatch_size\u001b[0m \u001b[0;34m=\u001b[0m\u001b[0;36m1\u001b[0m\u001b[0;34m,\u001b[0m\u001b[0msave_to_dir\u001b[0m\u001b[0;34m=\u001b[0m \u001b[0msave_to_dir\u001b[0m\u001b[0;34m,\u001b[0m \u001b[0msave_prefix\u001b[0m \u001b[0;34m=\u001b[0m \u001b[0msave_prefix\u001b[0m\u001b[0;34m,\u001b[0m \u001b[0msave_format\u001b[0m \u001b[0;34m=\u001b[0m \u001b[0;34m\"jpg\"\u001b[0m\u001b[0;34m)\u001b[0m\u001b[0;34m:\u001b[0m\u001b[0;34m\u001b[0m\u001b[0;34m\u001b[0m\u001b[0m\n\u001b[0m\u001b[1;32m      9\u001b[0m             \u001b[0mi\u001b[0m\u001b[0;34m+=\u001b[0m\u001b[0;36m1\u001b[0m\u001b[0;34m\u001b[0m\u001b[0;34m\u001b[0m\u001b[0m\n\u001b[1;32m     10\u001b[0m             \u001b[0;32mif\u001b[0m \u001b[0mi\u001b[0m\u001b[0;34m>\u001b[0m\u001b[0mn_generated_sample\u001b[0m\u001b[0;34m:\u001b[0m\u001b[0;34m\u001b[0m\u001b[0;34m\u001b[0m\u001b[0m\n",
            "\u001b[0;32m/usr/local/lib/python3.11/dist-packages/keras/src/legacy/preprocessing/image.py\u001b[0m in \u001b[0;36m__next__\u001b[0;34m(self)\u001b[0m\n\u001b[1;32m    110\u001b[0m         \u001b[0;31m# The transformation of images is not under thread lock\u001b[0m\u001b[0;34m\u001b[0m\u001b[0;34m\u001b[0m\u001b[0m\n\u001b[1;32m    111\u001b[0m         \u001b[0;31m# so it can be done in parallel\u001b[0m\u001b[0;34m\u001b[0m\u001b[0;34m\u001b[0m\u001b[0m\n\u001b[0;32m--> 112\u001b[0;31m         \u001b[0;32mreturn\u001b[0m \u001b[0mself\u001b[0m\u001b[0;34m.\u001b[0m\u001b[0m_get_batches_of_transformed_samples\u001b[0m\u001b[0;34m(\u001b[0m\u001b[0mindex_array\u001b[0m\u001b[0;34m)\u001b[0m\u001b[0;34m\u001b[0m\u001b[0;34m\u001b[0m\u001b[0m\n\u001b[0m\u001b[1;32m    113\u001b[0m \u001b[0;34m\u001b[0m\u001b[0m\n\u001b[1;32m    114\u001b[0m     \u001b[0;32mdef\u001b[0m \u001b[0m_get_batches_of_transformed_samples\u001b[0m\u001b[0;34m(\u001b[0m\u001b[0mself\u001b[0m\u001b[0;34m,\u001b[0m \u001b[0mindex_array\u001b[0m\u001b[0;34m)\u001b[0m\u001b[0;34m:\u001b[0m\u001b[0;34m\u001b[0m\u001b[0;34m\u001b[0m\u001b[0m\n",
            "\u001b[0;32m/usr/local/lib/python3.11/dist-packages/keras/src/legacy/preprocessing/image.py\u001b[0m in \u001b[0;36m_get_batches_of_transformed_samples\u001b[0;34m(self, index_array)\u001b[0m\n\u001b[1;32m    669\u001b[0m                     \u001b[0mformat\u001b[0m\u001b[0;34m=\u001b[0m\u001b[0mself\u001b[0m\u001b[0;34m.\u001b[0m\u001b[0msave_format\u001b[0m\u001b[0;34m,\u001b[0m\u001b[0;34m\u001b[0m\u001b[0;34m\u001b[0m\u001b[0m\n\u001b[1;32m    670\u001b[0m                 )\n\u001b[0;32m--> 671\u001b[0;31m                 \u001b[0mimg\u001b[0m\u001b[0;34m.\u001b[0m\u001b[0msave\u001b[0m\u001b[0;34m(\u001b[0m\u001b[0mos\u001b[0m\u001b[0;34m.\u001b[0m\u001b[0mpath\u001b[0m\u001b[0;34m.\u001b[0m\u001b[0mjoin\u001b[0m\u001b[0;34m(\u001b[0m\u001b[0mself\u001b[0m\u001b[0;34m.\u001b[0m\u001b[0msave_to_dir\u001b[0m\u001b[0;34m,\u001b[0m \u001b[0mfname\u001b[0m\u001b[0;34m)\u001b[0m\u001b[0;34m)\u001b[0m\u001b[0;34m\u001b[0m\u001b[0;34m\u001b[0m\u001b[0m\n\u001b[0m\u001b[1;32m    672\u001b[0m         \u001b[0mbatch_x_miscs\u001b[0m \u001b[0;34m=\u001b[0m \u001b[0;34m[\u001b[0m\u001b[0mxx\u001b[0m\u001b[0;34m[\u001b[0m\u001b[0mindex_array\u001b[0m\u001b[0;34m]\u001b[0m \u001b[0;32mfor\u001b[0m \u001b[0mxx\u001b[0m \u001b[0;32min\u001b[0m \u001b[0mself\u001b[0m\u001b[0;34m.\u001b[0m\u001b[0mx_misc\u001b[0m\u001b[0;34m]\u001b[0m\u001b[0;34m\u001b[0m\u001b[0;34m\u001b[0m\u001b[0m\n\u001b[1;32m    673\u001b[0m         \u001b[0moutput\u001b[0m \u001b[0;34m=\u001b[0m \u001b[0;34m(\u001b[0m\u001b[0mbatch_x\u001b[0m \u001b[0;32mif\u001b[0m \u001b[0;32mnot\u001b[0m \u001b[0mbatch_x_miscs\u001b[0m \u001b[0;32melse\u001b[0m \u001b[0;34m[\u001b[0m\u001b[0mbatch_x\u001b[0m\u001b[0;34m]\u001b[0m \u001b[0;34m+\u001b[0m \u001b[0mbatch_x_miscs\u001b[0m\u001b[0;34m,\u001b[0m\u001b[0;34m)\u001b[0m\u001b[0;34m\u001b[0m\u001b[0;34m\u001b[0m\u001b[0m\n",
            "\u001b[0;32m/usr/local/lib/python3.11/dist-packages/PIL/Image.py\u001b[0m in \u001b[0;36msave\u001b[0;34m(self, fp, format, **params)\u001b[0m\n\u001b[1;32m   2589\u001b[0m                 \u001b[0mfp\u001b[0m \u001b[0;34m=\u001b[0m \u001b[0mbuiltins\u001b[0m\u001b[0;34m.\u001b[0m\u001b[0mopen\u001b[0m\u001b[0;34m(\u001b[0m\u001b[0mfilename\u001b[0m\u001b[0;34m,\u001b[0m \u001b[0;34m\"r+b\"\u001b[0m\u001b[0;34m)\u001b[0m\u001b[0;34m\u001b[0m\u001b[0;34m\u001b[0m\u001b[0m\n\u001b[1;32m   2590\u001b[0m             \u001b[0;32melse\u001b[0m\u001b[0;34m:\u001b[0m\u001b[0;34m\u001b[0m\u001b[0;34m\u001b[0m\u001b[0m\n\u001b[0;32m-> 2591\u001b[0;31m                 \u001b[0mfp\u001b[0m \u001b[0;34m=\u001b[0m \u001b[0mbuiltins\u001b[0m\u001b[0;34m.\u001b[0m\u001b[0mopen\u001b[0m\u001b[0;34m(\u001b[0m\u001b[0mfilename\u001b[0m\u001b[0;34m,\u001b[0m \u001b[0;34m\"w+b\"\u001b[0m\u001b[0;34m)\u001b[0m\u001b[0;34m\u001b[0m\u001b[0;34m\u001b[0m\u001b[0m\n\u001b[0m\u001b[1;32m   2592\u001b[0m         \u001b[0;32melse\u001b[0m\u001b[0;34m:\u001b[0m\u001b[0;34m\u001b[0m\u001b[0;34m\u001b[0m\u001b[0m\n\u001b[1;32m   2593\u001b[0m             \u001b[0mfp\u001b[0m \u001b[0;34m=\u001b[0m \u001b[0mcast\u001b[0m\u001b[0;34m(\u001b[0m\u001b[0mIO\u001b[0m\u001b[0;34m[\u001b[0m\u001b[0mbytes\u001b[0m\u001b[0;34m]\u001b[0m\u001b[0;34m,\u001b[0m \u001b[0mfp\u001b[0m\u001b[0;34m)\u001b[0m\u001b[0;34m\u001b[0m\u001b[0;34m\u001b[0m\u001b[0m\n",
            "\u001b[0;31mFileNotFoundError\u001b[0m: [Errno 2] No such file or directory: 'augmented_data/yes/aug_Y_10_0_2386.jpg'"
          ]
        }
      ],
      "source": [
        "import time\n",
        "start_time = time.time()\n",
        "\n",
        "yes_path = 'brain_tumor_dataset/yes/'\n",
        "no_path = 'brain_tumor_dataset/no/'\n",
        "\n",
        "augmented_data_path = 'augmented_data/'\n",
        "augumented_data(file_dir = yes_path , n_generated_sample =6 ,save_to_dir =augmented_data_path +'yes' )\n",
        "augumented_data(file_dir = no_path , n_generated_sample =9 ,save_to_dir =augmented_data_path +'no' )\n",
        "end_time =time.time()\n",
        "execution_time = end_time - start_time\n",
        "print(timing(execution_time))"
      ]
    },
    {
      "cell_type": "code",
      "execution_count": null,
      "id": "3004c7fb-1946-4240-bbbb-e6a04b5059d0",
      "metadata": {
        "id": "3004c7fb-1946-4240-bbbb-e6a04b5059d0"
      },
      "outputs": [],
      "source": [
        "def data_summary(main_path):\n",
        "    yes_path =\"augmented_data/yes/\"\n",
        "    no_path = \"augmented_data/no/\"\n",
        "    n_pos=len(os.listdir(yes_path))\n",
        "    n_neg=len(os.listdir(no_path))\n",
        "\n",
        "    n = (n_pos + n_neg)\n",
        "    pos_per = (n_pos*100)/n\n",
        "    neg_per = (n_neg*100)/n\n",
        "\n",
        "    print(f\"Number of sample {n}\")\n",
        "    print(f\"{n_pos} Number of positive sample in percentage: {pos_per}%\")\n",
        "    print(f\"{n_neg} Number of Negetive sample in percentage: {neg_per}%\")\n"
      ]
    },
    {
      "cell_type": "code",
      "execution_count": null,
      "id": "788504a6-1900-496c-8246-ce7951d91b50",
      "metadata": {
        "id": "788504a6-1900-496c-8246-ce7951d91b50"
      },
      "outputs": [],
      "source": [
        "data_summary(augmented_data_path)"
      ]
    },
    {
      "cell_type": "code",
      "execution_count": null,
      "id": "1b8201b8-3ab4-4228-9d49-04ebe39f41d0",
      "metadata": {
        "id": "1b8201b8-3ab4-4228-9d49-04ebe39f41d0"
      },
      "outputs": [],
      "source": [
        "#Exploratory Data analysis (EDA)\n",
        "\n",
        "listyes = os.listdir(\"augmented_data/yes//\")\n",
        "number_file_yes = len(listyes)\n",
        "print(number_file_yes)\n",
        "\n",
        "\n",
        "listno = os.listdir(\"augmented_data/no/\")\n",
        "number_file_no = len(listno)\n",
        "print(number_file_no)"
      ]
    },
    {
      "cell_type": "code",
      "execution_count": null,
      "id": "6fe74a0a-181e-4bf6-8304-f7d11e0bfe95",
      "metadata": {
        "id": "6fe74a0a-181e-4bf6-8304-f7d11e0bfe95"
      },
      "outputs": [],
      "source": [
        "#plot\n",
        "\n",
        "data ={'tumorous': number_file_yes, 'non-tumorous':number_file_no}\n",
        "typex = data.keys()\n",
        "values = data.values()\n",
        "\n",
        "fig = plt.figure(figsize =(5,7))\n",
        "plt.bar(typex,values,color=\"red\")\n",
        "plt.xlabel(\"Data\")\n",
        "plt.ylabel(\"No_of_Brain_Tumor_Images\")\n",
        "plt.title(\"Count of Brain Tumor Images\")\n",
        "plt.show()"
      ]
    },
    {
      "cell_type": "code",
      "execution_count": null,
      "id": "2a8083c5-3e23-46c2-9aae-146a89ee733f",
      "metadata": {
        "id": "2a8083c5-3e23-46c2-9aae-146a89ee733f"
      },
      "outputs": [],
      "source": [
        "# DATA Preprocessing\n",
        "# Convert BGR to Gray\n",
        "# GuassianBlur\n",
        "# Erode\n",
        "#Dialate\n",
        "#Find Contours"
      ]
    },
    {
      "cell_type": "code",
      "execution_count": null,
      "id": "c49fcdc6-5970-46eb-bd86-24a3db06e8c8",
      "metadata": {
        "id": "c49fcdc6-5970-46eb-bd86-24a3db06e8c8"
      },
      "outputs": [],
      "source": [
        "import imutils\n",
        "def crop_brain_tumor(image , plot=False):\n",
        "    gray=cv2.cvtColor(image,cv2.COLOR_BGR2GRAY)\n",
        "    gray=cv2.GaussianBlur(gray, (5,5) ,0)\n",
        "\n",
        "    thres = cv2.threshold(gray ,45 ,255, cv2.THRESH_BINARY)[1]\n",
        "    thres = cv2.erode(thres , None , iterations =2)\n",
        "    thres = cv2.dilate(thres , None , iterations =2)\n",
        "\n",
        "    cnts = cv2.findContours(thres.copy() , cv2.RETR_EXTERNAL , cv2.CHAIN_APPROX_SIMPLE)\n",
        "    cnts = imutils.grab_contours(cnts)\n",
        "    c = max(cnts , key = cv2.contourArea)\n",
        "\n",
        "    extLeft = tuple(c[c[:,:,0].argmin()][0])\n",
        "    extRight = tuple(c[c[:,:,0].argmax()][0])\n",
        "    extTop = tuple(c[c[:,:,1].argmin()][0])\n",
        "    extBot = tuple(c[c[:,:,1].argmax()][0])\n",
        "\n",
        "    new_image = image[extTop[1]:extBot[1], extLeft[0]:extRight[0]]\n",
        "\n",
        "    if plot:\n",
        "        plt.figure()\n",
        "        plt.subplot(1, 2, 1)\n",
        "        plt.imshow(image)\n",
        "\n",
        "        plt.tick_params(axis='both', which='both',\n",
        "                        top=False, bottom=False, left=False, right=False,\n",
        "                        labelbottom=False, labeltop=False, labelleft=False, labelright=False)\n",
        "\n",
        "        plt.title('Original Image')\n",
        "\n",
        "        plt.subplot(1, 2, 2)\n",
        "        plt.imshow(new_image)\n",
        "\n",
        "        plt.tick_params(axis='both', which='both',\n",
        "                        top=False, bottom=False, left=False, right=False,\n",
        "                        labelbottom=False, labeltop=False, labelleft=False, labelright=False)\n",
        "\n",
        "        plt.title('Cropped Image')\n",
        "        plt.show()\n",
        "    return new_image"
      ]
    },
    {
      "cell_type": "code",
      "execution_count": null,
      "id": "ece2a45e-a777-4664-ad64-9ee4bd80586d",
      "metadata": {
        "id": "ece2a45e-a777-4664-ad64-9ee4bd80586d"
      },
      "outputs": [],
      "source": [
        "img = cv2.imread('augmented_data/yes/aug_Y_1_0_363.jpg')\n",
        "crop_brain_tumor(img ,True)"
      ]
    },
    {
      "cell_type": "code",
      "execution_count": null,
      "id": "9ed6b683-cf51-4c96-976c-c1fdb7a215b7",
      "metadata": {
        "id": "9ed6b683-cf51-4c96-976c-c1fdb7a215b7"
      },
      "outputs": [],
      "source": [
        "img = cv2.imread('augmented_data/no/aug_N_1_0_1439.jpg')\n",
        "crop_brain_tumor(img ,True)"
      ]
    },
    {
      "cell_type": "code",
      "execution_count": null,
      "id": "2dea9b67-04f8-4edc-b022-76e5bc06e300",
      "metadata": {
        "id": "2dea9b67-04f8-4edc-b022-76e5bc06e300"
      },
      "outputs": [],
      "source": [
        "# https://youtu.be/-zmBMxpNDqQ?si=OQ2B8mpYHw5to3oJ\n",
        "# 1:02:43\n",
        "#https://github.com/Chando0185/Advance_Brain_Tumor_Classification/tree/main"
      ]
    },
    {
      "cell_type": "code",
      "execution_count": null,
      "id": "9c3962bd-cce0-4065-8b71-75645795234c",
      "metadata": {
        "id": "9c3962bd-cce0-4065-8b71-75645795234c"
      },
      "outputs": [],
      "source": [
        "folder1 = 'augmented_data/no/'\n",
        "folder2 = 'augmented_data/yes/'\n",
        "\n",
        "for filename in os.listdir(folder1):\n",
        "    img = cv2.imread(folder1 + filename)\n",
        "    img = crop_brain_tumor(img, False)\n",
        "    cv2.imwrite(folder1 + filename, img)\n",
        "for filename in os.listdir(folder2):\n",
        "    img = cv2.imread(folder2 + filename)\n",
        "    img = crop_brain_tumor(img, False)\n",
        "    cv2.imwrite(folder2 + filename, img)"
      ]
    },
    {
      "cell_type": "code",
      "execution_count": null,
      "id": "18ac8bef-c794-4954-a29a-685a42374cdc",
      "metadata": {
        "id": "18ac8bef-c794-4954-a29a-685a42374cdc"
      },
      "outputs": [],
      "source": []
    },
    {
      "cell_type": "code",
      "execution_count": null,
      "id": "ef4f43ac-8aa5-4c9e-bd4b-bf2886306c21",
      "metadata": {
        "id": "ef4f43ac-8aa5-4c9e-bd4b-bf2886306c21"
      },
      "outputs": [],
      "source": []
    },
    {
      "cell_type": "code",
      "execution_count": null,
      "id": "ed70dc39-54dd-4a92-804a-a0feff3f3312",
      "metadata": {
        "id": "ed70dc39-54dd-4a92-804a-a0feff3f3312"
      },
      "outputs": [],
      "source": []
    },
    {
      "cell_type": "code",
      "execution_count": null,
      "id": "8f10714b-d29e-460c-abf2-f4591b0982c5",
      "metadata": {
        "id": "8f10714b-d29e-460c-abf2-f4591b0982c5"
      },
      "outputs": [],
      "source": [
        "#image loding\n",
        "from sklearn.utils import shuffle\n",
        "def load_data(dir_list, image_size):\n",
        "    X= []\n",
        "    y=[]\n",
        "\n",
        "    image_width, image_height = image_size\n",
        "    for directory in dir_list:\n",
        "        for filename in os.listdir(directory):\n",
        "            image=cv2.imread(directory + '/' +filename)\n",
        "            image=crop_brain_tumor(image, plot=False)\n",
        "            image=cv2.resize(image,dsize=(image_width, image_height), interpolation = cv2.INTER_CUBIC)\n",
        "            image = image/255.00\n",
        "            X.append(image)\n",
        "            if directory[-3:] == \"yes\":\n",
        "                y.append(1)\n",
        "            else:\n",
        "                y.append(0)\n",
        "\n",
        "    X= np.array(X)\n",
        "    y = np.array(y)\n",
        "    X,y = shuffle(X,y)\n",
        "    print(f\"Number of example is :{len(X)}\")\n",
        "    print(f\"X shape is : {X.shape}\")\n",
        "    print(f\"y shape is : {y.shape}\")\n",
        "    return X,y\n",
        "\n",
        "\n",
        "\n"
      ]
    },
    {
      "cell_type": "code",
      "execution_count": null,
      "id": "e119a210-2635-40f6-a37f-520320566efb",
      "metadata": {
        "id": "e119a210-2635-40f6-a37f-520320566efb"
      },
      "outputs": [],
      "source": [
        "import os\n",
        "augmented_path = 'augmented_data/'\n",
        "augmented_yes = augmented_path + 'yes'\n",
        "augmented_no = augmented_path + 'no'\n",
        "\n",
        "IMAGE_WIDTH , IMAGE_HEIGHT = (240,240)\n",
        "\n",
        "X,y = load_data([augmented_yes,augmented_no], (IMAGE_WIDTH , IMAGE_HEIGHT))"
      ]
    },
    {
      "cell_type": "code",
      "execution_count": null,
      "id": "8f1b650b-580d-47bc-8ca3-1c68a30ab7e8",
      "metadata": {
        "id": "8f1b650b-580d-47bc-8ca3-1c68a30ab7e8"
      },
      "outputs": [],
      "source": [
        "def plot_sample_images(X, y, n=50):\n",
        "\n",
        "    for label in [0,1]:\n",
        "        images = X[np.argwhere(y == label)]\n",
        "        n_images = images[:n]\n",
        "\n",
        "        columns_n = 10\n",
        "        rows_n = int(n/ columns_n)\n",
        "\n",
        "        plt.figure(figsize=(20, 10))\n",
        "\n",
        "        i = 1\n",
        "        for image in n_images:\n",
        "            plt.subplot(rows_n, columns_n, i)\n",
        "            plt.imshow(image[0])\n",
        "\n",
        "            plt.tick_params(axis='both', which='both',\n",
        "                            top=False, bottom=False, left=False, right=False,\n",
        "                            labelbottom=False, labeltop=False, labelleft=False,\n",
        "                            labelright=False)\n",
        "\n",
        "            i += 1\n",
        "\n",
        "        label_to_str = lambda label: \"Yes\" if label == 1 else \"No\"\n",
        "        plt.suptitle(f\"Brain Tumor: {label_to_str(label)}\")\n",
        "        plt.show()"
      ]
    },
    {
      "cell_type": "code",
      "execution_count": null,
      "id": "30575a7a-fe06-4fbc-b238-f9227d62476f",
      "metadata": {
        "id": "30575a7a-fe06-4fbc-b238-f9227d62476f"
      },
      "outputs": [],
      "source": [
        "plot_sample_images(X,y)"
      ]
    },
    {
      "cell_type": "code",
      "execution_count": null,
      "id": "7838091b-cfc6-49ed-a63a-6f103e97d581",
      "metadata": {
        "id": "7838091b-cfc6-49ed-a63a-6f103e97d581"
      },
      "outputs": [],
      "source": [
        "#DATA SPLITTING\n",
        "#TRAIN TEST VALIDATION"
      ]
    },
    {
      "cell_type": "code",
      "execution_count": null,
      "id": "dc41be7d-74e9-45c1-a449-d9b3e10b3938",
      "metadata": {
        "id": "dc41be7d-74e9-45c1-a449-d9b3e10b3938"
      },
      "outputs": [],
      "source": [
        "if not os.path.isdir('tumorous_and_nontumorous'):\n",
        "    base_dir = 'tumorous_and_nontumorous'\n",
        "    os.mkdir(base_dir)"
      ]
    },
    {
      "cell_type": "code",
      "execution_count": null,
      "id": "8c75a8f9-a99f-4547-9e36-b86b9541a8a9",
      "metadata": {
        "id": "8c75a8f9-a99f-4547-9e36-b86b9541a8a9"
      },
      "outputs": [],
      "source": [
        "if not os.path.isdir('tumorous_and_nontumorous/train'):\n",
        "    train_dir = os.path.join(base_dir , 'train')\n",
        "    os.mkdir(train_dir)\n",
        "if not os.path.isdir('tumorous_and_nontumorous/test'):\n",
        "    test_dir = os.path.join(base_dir , 'test')\n",
        "    os.mkdir(test_dir)\n",
        "if not os.path.isdir('tumorous_and_nontumorous/valid'):\n",
        "    valid_dir = os.path.join(base_dir , 'valid')\n",
        "    os.mkdir(valid_dir)"
      ]
    },
    {
      "cell_type": "code",
      "execution_count": null,
      "id": "cf7eaccf-0de0-4784-a1a4-322b85458883",
      "metadata": {
        "id": "cf7eaccf-0de0-4784-a1a4-322b85458883"
      },
      "outputs": [],
      "source": [
        "if not os.path.isdir('tumorous_and_nontumorous/train/tumorous'):\n",
        "    infected_train_dir = os.path.join(train_dir, 'tumorous')\n",
        "    os.mkdir(infected_train_dir)\n",
        "if not os.path.isdir('tumorous_and_nontumorous/test/tumorous'):\n",
        "    infected_test_dir = os.path.join(test_dir, 'tumorous')\n",
        "    os.mkdir(infected_test_dir)\n",
        "if not os.path.isdir('tumorous_and_nontumorous/valid/tumorous'):\n",
        "    infected_valid_dir = os.path.join(valid_dir, 'tumorous')\n",
        "    os.mkdir(infected_valid_dir)"
      ]
    },
    {
      "cell_type": "code",
      "execution_count": null,
      "id": "6d9b268d-2cf3-4be2-959b-3aabadead7fe",
      "metadata": {
        "id": "6d9b268d-2cf3-4be2-959b-3aabadead7fe"
      },
      "outputs": [],
      "source": [
        "if not os.path.isdir('tumorous_and_nontumorous/train/nontumorous'):\n",
        "    healthy_train_dir = os.path.join(train_dir, 'nontumorous')\n",
        "    os.mkdir(healthy_train_dir)\n",
        "if not os.path.isdir('tumorous_and_nontumorous/test/nontumorous'):\n",
        "    healthy_test_dir = os.path.join(test_dir, 'nontumorous')\n",
        "    os.mkdir(healthy_test_dir)\n",
        "if not os.path.isdir('tumorous_and_nontumorous/valid/nontumorous'):\n",
        "    healthy_valid_dir = os.path.join(valid_dir, 'nontumorous')\n",
        "    os.mkdir(healthy_valid_dir)"
      ]
    },
    {
      "cell_type": "code",
      "execution_count": null,
      "id": "24203384-3c1e-44fb-8a11-1fd44ee6cb7d",
      "metadata": {
        "id": "24203384-3c1e-44fb-8a11-1fd44ee6cb7d"
      },
      "outputs": [],
      "source": [
        "original_dataset_tumorours = os.path.join('augmented_data','yes/')\n",
        "original_dataset_nontumorours = os.path.join('augmented_data','no/')"
      ]
    },
    {
      "cell_type": "code",
      "execution_count": null,
      "id": "2f08b47d-48ab-40ab-9b82-54e8c603e270",
      "metadata": {
        "id": "2f08b47d-48ab-40ab-9b82-54e8c603e270"
      },
      "outputs": [],
      "source": [
        "files = os.listdir('augmented_data/yes/')\n",
        "fnames = []\n",
        "for i in range(0,759):\n",
        "    fnames.append(files[i])\n",
        "for fname in fnames:\n",
        "    src = os.path.join(original_dataset_tumorours, fname)\n",
        "    dst = os.path.join(infected_train_dir, fname)\n",
        "    shutil.copyfile(src, dst)"
      ]
    },
    {
      "cell_type": "code",
      "execution_count": null,
      "id": "d42d221c-4829-4853-ba08-3b7d927d6d2e",
      "metadata": {
        "id": "d42d221c-4829-4853-ba08-3b7d927d6d2e"
      },
      "outputs": [],
      "source": [
        "files = os.listdir('augmented_data/yes/')\n",
        "fnames = []\n",
        "for i in range(759,922):\n",
        "    fnames.append(files[i])\n",
        "for fname in fnames:\n",
        "    src = os.path.join(original_dataset_tumorours, fname)\n",
        "    dst = os.path.join(infected_test_dir, fname)\n",
        "    shutil.copyfile(src, dst)"
      ]
    },
    {
      "cell_type": "code",
      "execution_count": null,
      "id": "9947358a-cc03-45d9-ad79-89965ce3a87f",
      "metadata": {
        "id": "9947358a-cc03-45d9-ad79-89965ce3a87f"
      },
      "outputs": [],
      "source": [
        "files = os.listdir('augmented_data/yes/')\n",
        "fnames = []\n",
        "for i in range(922,1084):\n",
        "    fnames.append(files[i])\n",
        "for fname in fnames:\n",
        "    src = os.path.join(original_dataset_tumorours, fname)\n",
        "    dst = os.path.join(infected_valid_dir, fname)\n",
        "    shutil.copyfile(src, dst)"
      ]
    },
    {
      "cell_type": "code",
      "execution_count": null,
      "id": "a7a98efd-dca4-468d-98fa-44040244805f",
      "metadata": {
        "id": "a7a98efd-dca4-468d-98fa-44040244805f"
      },
      "outputs": [],
      "source": [
        "# 80 10 10"
      ]
    },
    {
      "cell_type": "code",
      "execution_count": null,
      "id": "439ca67c-9bbc-42fa-9b34-55f52f65ff67",
      "metadata": {
        "id": "439ca67c-9bbc-42fa-9b34-55f52f65ff67"
      },
      "outputs": [],
      "source": [
        "files = os.listdir('augmented_data/no/')\n",
        "fnames = []\n",
        "for i in range(0,686):\n",
        "    fnames.append(files[i])\n",
        "for fname in fnames:\n",
        "    src = os.path.join(original_dataset_nontumorours, fname)\n",
        "    dst = os.path.join(healthy_train_dir, fname)\n",
        "    shutil.copyfile(src, dst)"
      ]
    },
    {
      "cell_type": "code",
      "execution_count": null,
      "id": "5576d4f1-29d4-4734-8a7d-8f0b43bb6872",
      "metadata": {
        "id": "5576d4f1-29d4-4734-8a7d-8f0b43bb6872"
      },
      "outputs": [],
      "source": [
        "files = os.listdir('augmented_data/no/')\n",
        "fnames = []\n",
        "for i in range(686,833):\n",
        "    fnames.append(files[i])\n",
        "for fname in fnames:\n",
        "    src = os.path.join(original_dataset_nontumorours, fname)\n",
        "    dst = os.path.join(healthy_test_dir, fname)\n",
        "    shutil.copyfile(src, dst)"
      ]
    },
    {
      "cell_type": "code",
      "execution_count": null,
      "id": "6e2e9d3f-a928-40e4-a2d7-735da13863c9",
      "metadata": {
        "id": "6e2e9d3f-a928-40e4-a2d7-735da13863c9"
      },
      "outputs": [],
      "source": [
        "files = os.listdir('augmented_data/no/')\n",
        "fnames = []\n",
        "for i in range(833,979):\n",
        "    fnames.append(files[i])\n",
        "for fname in fnames:\n",
        "    src = os.path.join(original_dataset_nontumorours, fname)\n",
        "    dst = os.path.join(healthy_valid_dir, fname)\n",
        "    shutil.copyfile(src, dst)"
      ]
    },
    {
      "cell_type": "code",
      "execution_count": null,
      "id": "b3d0ee4c-4a11-4733-a028-bb78cc63c02d",
      "metadata": {
        "id": "b3d0ee4c-4a11-4733-a028-bb78cc63c02d"
      },
      "outputs": [],
      "source": [
        "# MODEL BUILDING"
      ]
    },
    {
      "cell_type": "code",
      "execution_count": null,
      "id": "bed238c4-a585-4e04-a07e-79ef5499a0cd",
      "metadata": {
        "id": "bed238c4-a585-4e04-a07e-79ef5499a0cd"
      },
      "outputs": [],
      "source": [
        "train_datagen = ImageDataGenerator(rescale = 1./255,\n",
        "                  horizontal_flip=0.4,\n",
        "                  vertical_flip=0.4,\n",
        "                  rotation_range=40,\n",
        "                  shear_range=0.2,\n",
        "                  width_shift_range=0.4,\n",
        "                  height_shift_range=0.4,\n",
        "                  fill_mode='nearest')\n",
        "test_data_gen = ImageDataGenerator(rescale=1.0/255)\n",
        "valid_data_gen = ImageDataGenerator(rescale=1.0/255)"
      ]
    },
    {
      "cell_type": "code",
      "execution_count": null,
      "id": "563317d3-7495-45bb-bbd6-6045474ec31b",
      "metadata": {
        "id": "563317d3-7495-45bb-bbd6-6045474ec31b"
      },
      "outputs": [],
      "source": [
        "train_generator = train_datagen.flow_from_directory('tumorous_and_nontumorous/train/', batch_size=32, target_size=(240,240), class_mode='categorical',shuffle=True, seed = 42, color_mode = 'rgb')"
      ]
    },
    {
      "cell_type": "code",
      "execution_count": null,
      "id": "02018d3b-f1a4-4e87-959e-0120dcd91ee8",
      "metadata": {
        "id": "02018d3b-f1a4-4e87-959e-0120dcd91ee8"
      },
      "outputs": [],
      "source": [
        "test_generator = train_datagen.flow_from_directory('tumorous_and_nontumorous/test/', batch_size=32, target_size=(240,240), class_mode='categorical',shuffle=True, seed = 42, color_mode = 'rgb')"
      ]
    },
    {
      "cell_type": "code",
      "execution_count": null,
      "id": "5b99c4c9-eccc-4d89-a65c-e3f1f0569662",
      "metadata": {
        "id": "5b99c4c9-eccc-4d89-a65c-e3f1f0569662"
      },
      "outputs": [],
      "source": [
        "valid_generator = train_datagen.flow_from_directory('tumorous_and_nontumorous/valid/', batch_size=32, target_size=(240,240), class_mode='categorical',shuffle=True, seed = 42, color_mode = 'rgb')"
      ]
    },
    {
      "cell_type": "code",
      "execution_count": null,
      "id": "68877f21-2d4a-4d99-9db1-9d3040a761e7",
      "metadata": {
        "id": "68877f21-2d4a-4d99-9db1-9d3040a761e7"
      },
      "outputs": [],
      "source": [
        "class_labels = train_generator.class_indices\n",
        "class_name = {value: key for (key,value) in class_labels.items()}"
      ]
    },
    {
      "cell_type": "code",
      "execution_count": null,
      "id": "499d8491-d41f-4f95-a225-9b445c01076b",
      "metadata": {
        "id": "499d8491-d41f-4f95-a225-9b445c01076b"
      },
      "outputs": [],
      "source": [
        "class_name"
      ]
    },
    {
      "cell_type": "code",
      "execution_count": null,
      "id": "7a48bfc5-7094-41c4-be02-bf21402b32a7",
      "metadata": {
        "id": "7a48bfc5-7094-41c4-be02-bf21402b32a7",
        "outputId": "7da23ac7-19c8-4ec6-92f1-ce85e23721fc",
        "colab": {
          "base_uri": "https://localhost:8080/",
          "height": 88
        }
      },
      "outputs": [
        {
          "output_type": "stream",
          "name": "stdout",
          "text": [
            "Downloading data from https://storage.googleapis.com/tensorflow/keras-applications/vgg19/vgg19_weights_tf_dim_ordering_tf_kernels_notop.h5\n",
            "\u001b[1m80134624/80134624\u001b[0m \u001b[32m━━━━━━━━━━━━━━━━━━━━\u001b[0m\u001b[37m\u001b[0m \u001b[1m4s\u001b[0m 0us/step\n"
          ]
        },
        {
          "output_type": "display_data",
          "data": {
            "text/plain": [
              "\u001b[1mModel: \"functional\"\u001b[0m\n"
            ],
            "text/html": [
              "<pre style=\"white-space:pre;overflow-x:auto;line-height:normal;font-family:Menlo,'DejaVu Sans Mono',consolas,'Courier New',monospace\"><span style=\"font-weight: bold\">Model: \"functional\"</span>\n",
              "</pre>\n"
            ]
          },
          "metadata": {}
        }
      ],
      "source": [
        "base_model = VGG19(input_shape = (240,240,3), include_top=False, weights='imagenet')\n",
        "\n",
        "for layer in base_model.layers:\n",
        "    layer.trainable=False\n",
        "\n",
        "x=base_model.output\n",
        "flat = Flatten()(x)\n",
        "\n",
        "class_1 = Dense(4608, activation = 'relu')(flat)\n",
        "drop_out = Dropout(0.2)(class_1)\n",
        "class_2 = Dense(1152, activation = 'relu')(drop_out)\n",
        "output = Dense(2, activation = 'softmax')(class_2)\n",
        "\n",
        "model_01 = Model(base_model.input, output)\n",
        "model_01.summary()"
      ]
    },
    {
      "cell_type": "code",
      "execution_count": null,
      "id": "4f990165-9d0e-41f4-afad-ae8d9c4d0256",
      "metadata": {
        "id": "4f990165-9d0e-41f4-afad-ae8d9c4d0256"
      },
      "outputs": [],
      "source": [
        "# callback\n",
        "filepath = 'model.keras'\n",
        "es = EarlyStopping(monitor='val_loss', verbose = 1, mode='min',patience=4)\n",
        "cp = ModelCheckpoint(filepath, monitor='val_loss', verbose = 1, save_best_only=True, save_weights_only=False, mode='auto',save_freq='epoch')\n",
        "lrr = ReduceLROnPlateau(monitor='val_accuarcy', patience=3, verbose = 1, factor = 0.5, min_lr = 0.0001)"
      ]
    },
    {
      "cell_type": "code",
      "execution_count": null,
      "id": "f47d3ab0-f7e5-4392-878b-539e9e52a492",
      "metadata": {
        "id": "f47d3ab0-f7e5-4392-878b-539e9e52a492"
      },
      "outputs": [],
      "source": [
        "sgd = SGD(learning_rate=0.0001, decay = 1e-6, momentum = 0.9, nesterov = True)\n",
        "model_01.compile(loss='categorical_crossentropy', optimizer = sgd, metrics=['accuracy'])"
      ]
    },
    {
      "cell_type": "code",
      "execution_count": null,
      "id": "7ee6a415-7bbb-4a67-8a01-3be8994e675a",
      "metadata": {
        "id": "7ee6a415-7bbb-4a67-8a01-3be8994e675a",
        "outputId": "2638e0a0-39e4-445b-a98f-495f621b0829",
        "colab": {
          "base_uri": "https://localhost:8080/",
          "height": 158
        }
      },
      "outputs": [
        {
          "output_type": "error",
          "ename": "NameError",
          "evalue": "name 'model_01' is not defined",
          "traceback": [
            "\u001b[0;31m---------------------------------------------------------------------------\u001b[0m",
            "\u001b[0;31mNameError\u001b[0m                                 Traceback (most recent call last)",
            "\u001b[0;32m<ipython-input-16-84a4f67ba7b0>\u001b[0m in \u001b[0;36m<cell line: 0>\u001b[0;34m()\u001b[0m\n\u001b[0;32m----> 1\u001b[0;31m \u001b[0mhistory_01\u001b[0m \u001b[0;34m=\u001b[0m \u001b[0mmodel_01\u001b[0m\u001b[0;34m.\u001b[0m\u001b[0mfit\u001b[0m\u001b[0;34m(\u001b[0m\u001b[0mtrain_generator\u001b[0m\u001b[0;34m,\u001b[0m \u001b[0msteps_per_epoch\u001b[0m\u001b[0;34m=\u001b[0m\u001b[0;36m10\u001b[0m\u001b[0;34m,\u001b[0m \u001b[0mepochs\u001b[0m \u001b[0;34m=\u001b[0m \u001b[0;36m2\u001b[0m\u001b[0;34m,\u001b[0m \u001b[0mcallbacks\u001b[0m\u001b[0;34m=\u001b[0m\u001b[0;34m[\u001b[0m\u001b[0mes\u001b[0m\u001b[0;34m,\u001b[0m\u001b[0mcp\u001b[0m\u001b[0;34m,\u001b[0m\u001b[0mlrr\u001b[0m\u001b[0;34m]\u001b[0m\u001b[0;34m,\u001b[0m \u001b[0mvalidation_data\u001b[0m\u001b[0;34m=\u001b[0m\u001b[0mvalid_generator\u001b[0m\u001b[0;34m)\u001b[0m\u001b[0;34m\u001b[0m\u001b[0;34m\u001b[0m\u001b[0m\n\u001b[0m",
            "\u001b[0;31mNameError\u001b[0m: name 'model_01' is not defined"
          ]
        }
      ],
      "source": [
        "history_01 = model_01.fit(train_generator, steps_per_epoch=10, epochs = 2, callbacks=[es,cp,lrr], validation_data=valid_generator)"
      ]
    },
    {
      "cell_type": "code",
      "execution_count": null,
      "id": "348cb43b-5ec2-4971-a89f-f0663585d97a",
      "metadata": {
        "id": "348cb43b-5ec2-4971-a89f-f0663585d97a"
      },
      "outputs": [],
      "source": [
        "# Plot performance\n",
        "fig, (ax1,ax2) = plt.subplots(nrows=1, ncols=2, figsize=(12,6))\n",
        "fig.suptitle(\"Model Training (Frozen CNN)\", fontsize=12)\n",
        "max_epoch = len(history_01.history['accuracy'])+1\n",
        "epochs_list = list(range(1, max_epoch))\n",
        "\n",
        "ax1.plot(epochs_list, history_01.history['accuracy'], color='b', linestyle='-', label='Training Data')\n",
        "ax1.plot(epochs_list, history_01.history['val_accuracy'], color='r', linestyle='-', label='Validation Data')\n",
        "ax1.set_title('Training Accuracy', fontsize=12)\n",
        "ax1.set_xlabel('Epochs', fontsize=12)\n",
        "ax1.set_ylabel('Accuracy', fontsize=12)\n",
        "ax1.legend(frameon=False, loc='lower center', ncol=2)\n",
        "\n",
        "ax2.plot(epochs_list, history_01.history['loss'], color='b', linestyle='-', label='Training Data')\n",
        "ax2.plot(epochs_list, history_01.history['val_loss'], color='r', linestyle='-', label='Validation Data')\n",
        "ax2.set_title('Training Loss', fontsize=12)\n",
        "ax2.set_xlabel('Epochs', fontsize=12)\n",
        "ax2.set_ylabel('Loss', fontsize=12)\n",
        "ax2.legend(frameon=False, loc='upper center', ncol=2)\n",
        "plt.savefig(\"training_frozencnn.jpeg\", format='jpeg', dpi=100, bbox_inches='tight')"
      ]
    },
    {
      "cell_type": "code",
      "execution_count": null,
      "id": "4e809ef9-6157-4dfe-9a53-dc598fde2c6a",
      "metadata": {
        "id": "4e809ef9-6157-4dfe-9a53-dc598fde2c6a"
      },
      "outputs": [],
      "source": []
    },
    {
      "cell_type": "code",
      "execution_count": null,
      "id": "e6eefa43-8114-4652-9a2a-99c7335e5d24",
      "metadata": {
        "id": "e6eefa43-8114-4652-9a2a-99c7335e5d24"
      },
      "outputs": [],
      "source": [
        "import os\n",
        "\n",
        "# Create directory if it does not exist\n",
        "if not os.path.isdir('model_weights/'):\n",
        "    os.mkdir('model_weights/')\n",
        "\n",
        "# Save weights with the correct file extension\n",
        "model_01.save_weights(filepath=\"model_weights/vgg19_model_01.weights.h5\", overwrite=True)\n"
      ]
    },
    {
      "cell_type": "code",
      "execution_count": null,
      "id": "b72514fd-bfe3-412d-8ee7-72af4e2b11eb",
      "metadata": {
        "id": "b72514fd-bfe3-412d-8ee7-72af4e2b11eb"
      },
      "outputs": [],
      "source": [
        "model_01.load_weights(\"model_weights/vgg19_model_01.weights.h5\")\n",
        "vgg_val_eval_01 = model_01.evaluate(valid_generator)\n",
        "vgg_test_eval_01 = model_01.evaluate(test_generator)"
      ]
    },
    {
      "cell_type": "code",
      "execution_count": null,
      "id": "4e3f91a6-0817-42cd-8ad0-95a1af4fa3e7",
      "metadata": {
        "id": "4e3f91a6-0817-42cd-8ad0-95a1af4fa3e7"
      },
      "outputs": [],
      "source": [
        "print(f'Validation Loss: {vgg_val_eval_01[0]}')\n",
        "print(f'Validation Acc: {vgg_val_eval_01[1]}')\n",
        "print(f'Testing Loss: {vgg_test_eval_01[0]}')\n",
        "print(f'Testing Acc: {vgg_test_eval_01[1]}')"
      ]
    },
    {
      "cell_type": "code",
      "execution_count": null,
      "id": "6ffa8739-6140-4866-ba82-94b62437ba65",
      "metadata": {
        "id": "6ffa8739-6140-4866-ba82-94b62437ba65"
      },
      "outputs": [],
      "source": [
        "filenames = test_generator.filenames\n",
        "nb_sample = len(filenames)\n",
        "\n",
        "vgg_prediction_01 = model_01.predict(test_generator, steps=nb_sample, verbose = 1)\n",
        "y_pred = np.argmax(vgg_prediction_01, axis=1)"
      ]
    },
    {
      "cell_type": "code",
      "execution_count": null,
      "id": "2704e492-01d4-4589-832e-4834c9b729a6",
      "metadata": {
        "id": "2704e492-01d4-4589-832e-4834c9b729a6"
      },
      "outputs": [],
      "source": [
        "\n",
        "base_model = VGG19(include_top=False, input_shape=(240,240,3))\n",
        "base_model_layer_names = [layer.name for layer in base_model.layers]\n",
        "base_model_layer_names"
      ]
    },
    {
      "cell_type": "code",
      "execution_count": null,
      "id": "cc627855-0408-40ef-8773-53c40bc7cb27",
      "metadata": {
        "id": "cc627855-0408-40ef-8773-53c40bc7cb27"
      },
      "outputs": [],
      "source": [
        "base_model = VGG19(include_top=False, input_shape=(240,240,3))\n",
        "base_model_layer_names = [layer.name for layer in base_model.layers]\n",
        "base_model_layer_names\n",
        "\n",
        "x=base_model.output\n",
        "flat = Flatten()(x)\n",
        "\n",
        "class_1 = Dense(4608, activation = 'relu')(flat)\n",
        "drop_out = Dropout(0.2)(class_1)\n",
        "class_2 = Dense(1152, activation = 'relu')(drop_out)\n",
        "output = Dense(2, activation = 'softmax')(class_2)\n",
        "\n",
        "model_02 = Model(base_model.inputs, output)\n",
        "model_02.load_weights(\"model_weights/vgg19_model_01.weights.h5\")\n",
        "\n",
        "set_trainable=False\n",
        "for layer in base_model.layers:\n",
        "    if layer.name in ['block5_conv4','block5_conv3']:\n",
        "        set_trainable=True\n",
        "    if set_trainable:\n",
        "        layer.trainable=True\n",
        "    else:\n",
        "        layer.trainable=False\n",
        "\n",
        "print(model_02.summary())"
      ]
    },
    {
      "cell_type": "code",
      "execution_count": null,
      "id": "a59dfb0c-c0c8-41e8-8182-cd4691a48973",
      "metadata": {
        "id": "a59dfb0c-c0c8-41e8-8182-cd4691a48973"
      },
      "outputs": [],
      "source": [
        "sgd = SGD(learning_rate=0.0001, decay = 1e-6, momentum = 0.9, nesterov = True)\n",
        "model_02.compile(loss='categorical_crossentropy', optimizer = sgd, metrics=['accuracy'])"
      ]
    },
    {
      "cell_type": "code",
      "execution_count": null,
      "id": "4971774f-6486-4b1c-8e2e-2a954fbbdb62",
      "metadata": {
        "id": "4971774f-6486-4b1c-8e2e-2a954fbbdb62"
      },
      "outputs": [],
      "source": [
        "history_02 = model_02.fit(train_generator, steps_per_epoch=10, epochs = 2, callbacks=[es,cp,lrr], validation_data=valid_generator)"
      ]
    },
    {
      "cell_type": "code",
      "execution_count": null,
      "id": "f27514bb-1d44-4fb3-9b89-e0a9c16786c7",
      "metadata": {
        "id": "f27514bb-1d44-4fb3-9b89-e0a9c16786c7"
      },
      "outputs": [],
      "source": [
        "fig, (ax1,ax2) = plt.subplots(nrows=1, ncols=2, figsize=(12,6))\n",
        "fig.suptitle(\"Model Training (Frozen CNN)\", fontsize=12)\n",
        "max_epoch = len(history_01.history['accuracy'])+1\n",
        "epochs_list = list(range(1, max_epoch))\n",
        "\n",
        "ax1.plot(epochs_list, history_02.history['accuracy'], color='b', linestyle='-', label='Training Data')\n",
        "ax1.plot(epochs_list, history_02.history['val_accuracy'], color='r', linestyle='-', label='Validation Data')\n",
        "ax1.set_title('Training Accuracy', fontsize=12)\n",
        "ax1.set_xlabel('Epochs', fontsize=12)\n",
        "ax1.set_ylabel('Accuracy', fontsize=12)\n",
        "ax1.legend(frameon=False, loc='lower center', ncol=2)\n",
        "\n",
        "ax2.plot(epochs_list, history_02.history['loss'], color='b', linestyle='-', label='Training Data')\n",
        "ax2.plot(epochs_list, history_02.history['val_loss'], color='r', linestyle='-', label='Validation Data')\n",
        "ax2.set_title('Training Loss', fontsize=12)\n",
        "ax2.set_xlabel('Epochs', fontsize=12)\n",
        "ax2.set_ylabel('Loss', fontsize=12)\n",
        "ax2.legend(frameon=False, loc='upper center', ncol=2)\n",
        "plt.savefig(\"training_frozencnn.jpeg\", format='jpeg', dpi=100, bbox_inches='tight')"
      ]
    },
    {
      "cell_type": "code",
      "execution_count": null,
      "id": "097b9c9a-fd1f-4015-bdcd-7976b290448b",
      "metadata": {
        "id": "097b9c9a-fd1f-4015-bdcd-7976b290448b"
      },
      "outputs": [],
      "source": [
        "if not os.path.isdir('model_weights/'):\n",
        "    os.mkdir('model_weights/')\n",
        "model_02.save_weights(filepath=\"model_weights/vgg19_model_02.weights.h5\", overwrite=True)"
      ]
    },
    {
      "cell_type": "code",
      "execution_count": null,
      "id": "5005919e-9de4-4502-96f4-9417da4b98f3",
      "metadata": {
        "id": "5005919e-9de4-4502-96f4-9417da4b98f3"
      },
      "outputs": [],
      "source": [
        "\n",
        "model_02.load_weights(\"model_weights/vgg19_model_02.weights.h5\")\n",
        "vgg_val_eval_02 = model_02.evaluate(valid_generator)\n",
        "vgg_test_eval_02 = model_02.evaluate(test_generator)"
      ]
    },
    {
      "cell_type": "code",
      "execution_count": null,
      "id": "d5e39d1f-db33-4f23-a9d2-b94c7f42ce01",
      "metadata": {
        "id": "d5e39d1f-db33-4f23-a9d2-b94c7f42ce01"
      },
      "outputs": [],
      "source": [
        "base_model = VGG19(include_top=False, input_shape=(240,240,3))\n",
        "base_model_layer_names = [layer.name for layer in base_model.layers]\n",
        "base_model_layer_names\n",
        "\n",
        "x=base_model.output\n",
        "flat = Flatten()(x)\n",
        "\n",
        "class_1 = Dense(4608, activation = 'relu')(flat)\n",
        "drop_out = Dropout(0.2)(class_1)\n",
        "class_2 = Dense(1152, activation = 'relu')(drop_out)\n",
        "output = Dense(2, activation = 'softmax')(class_2)\n",
        "\n",
        "model_03 = Model(base_model.inputs, output)\n",
        "model_03.load_weights(\"model_weights/vgg19_model_02.weights.h5\")\n",
        "\n",
        "sgd = SGD(learning_rate=0.0001, decay = 1e-6, momentum = 0.9, nesterov = True)\n",
        "model_03.compile(loss='categorical_crossentropy', optimizer = sgd, metrics=['accuracy'])"
      ]
    },
    {
      "cell_type": "code",
      "execution_count": null,
      "id": "1ea0e762-822a-4ba7-b230-e16337ebdd32",
      "metadata": {
        "id": "1ea0e762-822a-4ba7-b230-e16337ebdd32"
      },
      "outputs": [],
      "source": [
        "\n",
        "model_03.summary()"
      ]
    },
    {
      "cell_type": "code",
      "execution_count": null,
      "id": "86b5a02d-395b-4016-ab04-1317b77202c8",
      "metadata": {
        "id": "86b5a02d-395b-4016-ab04-1317b77202c8"
      },
      "outputs": [],
      "source": [
        "history_03 = model_03.fit(train_generator, steps_per_epoch=10, epochs = 2, callbacks=[es,cp,lrr], validation_data=valid_generator)"
      ]
    },
    {
      "cell_type": "code",
      "execution_count": null,
      "id": "2b20be06-6aa1-4993-8081-66370323f669",
      "metadata": {
        "id": "2b20be06-6aa1-4993-8081-66370323f669"
      },
      "outputs": [],
      "source": [
        "# Save weights\n",
        "if not os.path.exists(\"model_weights/\"):\n",
        "    os.mkdir(\"model_weights/\")\n",
        "model_03.save_weights(\"model_weights/vgg_unfrozen.weights.h5\")\n",
        "\n",
        "# Load weights\n",
        "model_03.load_weights(\"model_weights/vgg_unfrozen.weights.h5\")\n",
        "\n",
        "# Evaluate\n",
        "vgg_val_eval_03 = model_03.evaluate(valid_generator)\n",
        "vgg_test_eval_03 = model_03.evaluate(test_generator)\n"
      ]
    },
    {
      "cell_type": "code",
      "execution_count": null,
      "id": "af432897-3dce-4b89-9f20-f6f656902491",
      "metadata": {
        "id": "af432897-3dce-4b89-9f20-f6f656902491"
      },
      "outputs": [],
      "source": [
        "\n"
      ]
    },
    {
      "cell_type": "code",
      "execution_count": null,
      "id": "93e64c4c-bfc2-41cb-9257-92e02922b086",
      "metadata": {
        "id": "93e64c4c-bfc2-41cb-9257-92e02922b086"
      },
      "outputs": [],
      "source": []
    },
    {
      "cell_type": "code",
      "execution_count": null,
      "id": "89683b42-9c1c-4925-a6f2-e218833a171a",
      "metadata": {
        "id": "89683b42-9c1c-4925-a6f2-e218833a171a"
      },
      "outputs": [],
      "source": []
    }
  ],
  "metadata": {
    "kernelspec": {
      "display_name": "Python 3 (ipykernel)",
      "language": "python",
      "name": "python3"
    },
    "language_info": {
      "codemirror_mode": {
        "name": "ipython",
        "version": 3
      },
      "file_extension": ".py",
      "mimetype": "text/x-python",
      "name": "python",
      "nbconvert_exporter": "python",
      "pygments_lexer": "ipython3",
      "version": "3.12.8"
    },
    "colab": {
      "provenance": [],
      "include_colab_link": true
    }
  },
  "nbformat": 4,
  "nbformat_minor": 5
}